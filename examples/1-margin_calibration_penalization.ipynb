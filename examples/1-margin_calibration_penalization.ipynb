{
 "cells": [
  {
   "cell_type": "code",
   "execution_count": 1,
   "id": "81ae476a-a2b4-49de-9bec-713c5ae1225f",
   "metadata": {},
   "outputs": [],
   "source": [
    "%load_ext autoreload\n",
    "%autoreload 2"
   ]
  },
  {
   "cell_type": "code",
   "execution_count": 2,
   "id": "658eb63f-478e-40ea-a14e-a4a775db1f39",
   "metadata": {},
   "outputs": [],
   "source": [
    "import numpy as np\n",
    "import pandas as pd\n",
    "import sys\n",
    "sys.path.append(\"../src\")\n",
    "from margin_calibration import MarginCalibration"
   ]
  },
  {
   "cell_type": "markdown",
   "id": "36484820-2066-4e6e-8ff8-a13308a24e7e",
   "metadata": {},
   "source": [
    "# Dataset Generation"
   ]
  },
  {
   "cell_type": "code",
   "execution_count": null,
   "id": "be30f266-344a-4fd9-8547-4a13ff367928",
   "metadata": {
    "scrolled": true
   },
   "outputs": [],
   "source": [
    "# Create a 100 random observations with their respective\n",
    "# sampling weights, such that those weights sum to 20 %\n",
    "n_obs = 100\n",
    "sampling_probabilities = np.random.rand(n_obs, 1).flatten()\n",
    "sampling_probabilities = sampling_probabilities / sampling_probabilities.sum() *.2\n",
    "\n",
    "# Create a matrix of size n_obs * n_margins, with margins ranging from 0 to 1000\n",
    "n_margins = 2 # Let say we have two variables\n",
    "calibration_matrix = 1000*np.random.rand(n_obs, n_margins)\n",
    "\n",
    "# Now we create the calibration target\n",
    "# It is of sier n_margins * 1 and contains the \n",
    "# sums of the margins over all the population\n",
    "calibration_target = np.array([np.sum(calibration_matrix[:, i])*100 for i in range(calibration_matrix.shape[1])])\n",
    "\n",
    "# The costs should be of size of the number of margins\n",
    "costs = (1,1) # We give here same costs to both variables"
   ]
  },
  {
   "cell_type": "markdown",
   "id": "321ae34d-59df-4f2f-b69a-8c4d0746f118",
   "metadata": {},
   "source": [
    "# Margin Calibration"
   ]
  },
  {
   "cell_type": "code",
   "execution_count": 12,
   "id": "2ac6f8e5-e1ab-473a-af88-be7e4592ca50",
   "metadata": {},
   "outputs": [],
   "source": [
    "mc=MarginCalibration()\n",
    "mc_logit=MarginCalibration(\"logit\", .5, 1.5)\n",
    "mc_rr=MarginCalibration(\"raking_ratio\")\n",
    "mc_lt=MarginCalibration(\"truncated_linear\", .5, 1.5)"
   ]
  },
  {
   "cell_type": "code",
   "execution_count": 42,
   "id": "e330d364-cdb0-4429-83da-3dad9875e3a3",
   "metadata": {},
   "outputs": [
    {
     "data": {
      "text/plain": [
       "array([-1.43970283e+03,  3.96017363e+02, -4.28405784e+03,  2.53723314e+02,\n",
       "        7.34783988e+01, -1.28019825e+03,  4.06584583e+02, -4.30880680e+02,\n",
       "        1.28367309e+02, -2.15708284e+02,  1.28293584e+02, -4.98602491e+02,\n",
       "       -2.09051516e+02,  1.73642604e+01,  2.48362688e+02,  9.84903065e+01,\n",
       "       -3.45878158e+02, -1.21797631e+02,  2.22675318e+02,  6.84563213e+02,\n",
       "        4.34579953e+02,  2.17212804e+02, -7.35633600e+01,  4.31917806e+01,\n",
       "        3.90120052e+03, -5.17544502e+01,  9.23691364e+02, -1.22044535e+02,\n",
       "       -3.04104824e+01,  1.20465706e+03,  3.63749433e+02,  2.47570922e+03,\n",
       "       -5.17377844e+01, -3.50429794e+02,  6.65942889e+04, -2.12451373e+02,\n",
       "        1.94396466e+02,  2.30211174e+01,  7.05297493e+02,  2.65569878e+02,\n",
       "       -2.53464615e+04,  2.23926625e+02,  2.13201359e+02, -3.14978794e+02,\n",
       "        1.94205363e+02, -3.18478034e+02, -2.48328743e+02,  4.36307974e+02,\n",
       "       -1.61552399e+02,  1.70478027e+02,  1.61459916e+02, -9.61067024e+01,\n",
       "        2.68549925e+02,  2.49617473e+02,  2.09195542e+02,  2.12248928e+02,\n",
       "       -1.95755076e+02, -3.75792126e+02,  2.98785230e+02,  3.75736492e+02,\n",
       "       -4.62009965e+01,  3.64727368e+02,  3.50365835e+02, -5.47392460e+02,\n",
       "       -7.79228703e+01, -6.45518790e+00,  1.80353487e+02,  3.69204326e+01,\n",
       "        7.34331799e+01, -9.31584865e+01,  6.45107566e+03, -1.23334924e+02,\n",
       "       -4.23813128e+01, -1.77097711e+03, -2.92890532e+01, -2.15398814e+02,\n",
       "        3.16874466e+02,  3.53310651e+02,  7.06762563e+02,  2.18853191e+02,\n",
       "        3.51877111e+01,  2.15825477e+02, -8.81607126e+01, -7.16910100e+02,\n",
       "       -8.61769794e+01,  1.40384835e+03,  8.41435453e+01, -5.95491116e+01,\n",
       "       -1.01378829e+02,  8.64679279e+01, -8.36295373e+02, -7.71004919e+01,\n",
       "       -8.60414114e+02,  4.54062477e+02,  3.98113370e+02,  1.44911603e+02,\n",
       "        3.68643449e+02, -4.45139295e+01, -1.87877890e+02, -1.61884059e+02])"
      ]
     },
     "execution_count": 42,
     "metadata": {},
     "output_type": "execute_result"
    }
   ],
   "source": [
    "mc.calibration(sampling_probabilities, calibration_matrix, calibration_target).x"
   ]
  },
  {
   "cell_type": "code",
   "execution_count": null,
   "id": "6502184e-961c-4e37-bf6a-bebf208c3f66",
   "metadata": {},
   "outputs": [],
   "source": [
    "mc_logit.calibration(sampling_probabilities, calibration_matrix, calibration_target).x"
   ]
  },
  {
   "cell_type": "code",
   "execution_count": null,
   "id": "f74f1db7-6153-4669-8e4e-40eb7166865f",
   "metadata": {},
   "outputs": [],
   "source": [
    "mc_rr.calibration(sampling_probabilities, calibration_matrix, calibration_target).x"
   ]
  },
  {
   "cell_type": "code",
   "execution_count": null,
   "id": "2eb01dfd-c6fe-47a3-90be-079307323280",
   "metadata": {},
   "outputs": [],
   "source": [
    "mc_lt.calibration(sampling_probabilities, calibration_matrix, calibration_target).x"
   ]
  },
  {
   "cell_type": "markdown",
   "id": "297e66a4-a526-4de6-b33e-cc4158532e79",
   "metadata": {},
   "source": [
    "# Penalized Margin Calibration"
   ]
  },
  {
   "cell_type": "code",
   "execution_count": 20,
   "id": "83c1af58-e449-4cb2-a868-a8e0914925bd",
   "metadata": {},
   "outputs": [],
   "source": [
    "mc_pen=MarginCalibration(penalty=.1, costs=costs)\n",
    "mc_logit_pen=MarginCalibration(\"logit\", .5, 1.5, penalty=.1, costs=costs)\n",
    "mc_rr_pen=MarginCalibration(\"raking_ratio\", penalty=.1, costs=costs)\n",
    "mc_lt_pen=MarginCalibration(\"truncated_linear\", .5, 1.5, penalty=.1, costs=costs)"
   ]
  },
  {
   "cell_type": "code",
   "execution_count": null,
   "id": "5c957e71-f3c3-4732-a1cf-8b40367f1303",
   "metadata": {},
   "outputs": [],
   "source": [
    "mc_pen.calibration(sampling_probabilities, calibration_matrix, calibration_target).x"
   ]
  },
  {
   "cell_type": "code",
   "execution_count": 24,
   "id": "ad4928e8-3516-4dc6-95fd-c271906e261d",
   "metadata": {},
   "outputs": [
    {
     "data": {
      "text/plain": [
       "array([ 99.58655609, 149.99999906, 149.99999992, 149.99999996])"
      ]
     },
     "execution_count": 24,
     "metadata": {},
     "output_type": "execute_result"
    }
   ],
   "source": [
    "mc_logit_pen.calibration(sampling_probabilities, calibration_matrix, calibration_target).x"
   ]
  },
  {
   "cell_type": "code",
   "execution_count": 23,
   "id": "ac0109dd-6a8f-47e9-b523-894195eec787",
   "metadata": {},
   "outputs": [
    {
     "data": {
      "text/plain": [
       "array([ 71.86637879, 100.30839441, 162.75838331, 234.94483732])"
      ]
     },
     "execution_count": 23,
     "metadata": {},
     "output_type": "execute_result"
    }
   ],
   "source": [
    "mc_rr_pen.calibration(sampling_probabilities, calibration_matrix, calibration_target).x"
   ]
  },
  {
   "cell_type": "code",
   "execution_count": 22,
   "id": "09a32c97-e2c7-4b58-bf51-97198cb8a377",
   "metadata": {},
   "outputs": [
    {
     "data": {
      "text/plain": [
       "array([ 99.58655551, 149.99999835, 150.        , 150.        ])"
      ]
     },
     "execution_count": 22,
     "metadata": {},
     "output_type": "execute_result"
    }
   ],
   "source": [
    "mc_lt_pen.calibration(sampling_probabilities, calibration_matrix, calibration_target).x"
   ]
  }
 ],
 "metadata": {
  "kernelspec": {
   "display_name": "Python 3 (ipykernel)",
   "language": "python",
   "name": "python3"
  },
  "language_info": {
   "codemirror_mode": {
    "name": "ipython",
    "version": 3
   },
   "file_extension": ".py",
   "mimetype": "text/x-python",
   "name": "python",
   "nbconvert_exporter": "python",
   "pygments_lexer": "ipython3",
   "version": "3.12.7"
  }
 },
 "nbformat": 4,
 "nbformat_minor": 5
}
