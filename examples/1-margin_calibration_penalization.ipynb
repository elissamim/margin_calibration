{
 "cells": [
  {
   "cell_type": "code",
   "execution_count": 44,
   "id": "81ae476a-a2b4-49de-9bec-713c5ae1225f",
   "metadata": {},
   "outputs": [
    {
     "name": "stdout",
     "output_type": "stream",
     "text": [
      "The autoreload extension is already loaded. To reload it, use:\n",
      "  %reload_ext autoreload\n"
     ]
    }
   ],
   "source": [
    "%load_ext autoreload\n",
    "%autoreload 2"
   ]
  },
  {
   "cell_type": "code",
   "execution_count": 45,
   "id": "658eb63f-478e-40ea-a14e-a4a775db1f39",
   "metadata": {},
   "outputs": [],
   "source": [
    "import numpy as np\n",
    "import pandas as pd\n",
    "import sys\n",
    "sys.path.append(\"../src\")\n",
    "from margin_calibration import MarginCalibration"
   ]
  },
  {
   "cell_type": "markdown",
   "id": "36484820-2066-4e6e-8ff8-a13308a24e7e",
   "metadata": {},
   "source": [
    "# Dataset Generation"
   ]
  },
  {
   "cell_type": "code",
   "execution_count": 46,
   "id": "be30f266-344a-4fd9-8547-4a13ff367928",
   "metadata": {
    "scrolled": true
   },
   "outputs": [],
   "source": [
    "# Create a 100 random observations with their respective\n",
    "# sampling weights, such that those weights sum to 20 %\n",
    "n_obs = 100\n",
    "sampling_probabilities = np.random.rand(n_obs, 1).flatten()\n",
    "sampling_probabilities = sampling_probabilities / sampling_probabilities.sum() *.2\n",
    "\n",
    "# Create a matrix of size n_obs * n_margins, with margins ranging from 0 to 1000\n",
    "n_margins = 2 # Let say we have two variables\n",
    "calibration_matrix = 1000*np.random.rand(n_obs, n_margins)\n",
    "\n",
    "# Now we create the calibration target\n",
    "# It is of sier n_margins * 1 and contains the \n",
    "# sums of the margins over all the population\n",
    "calibration_target = np.array([np.sum(calibration_matrix[:, i])*100 for i in range(calibration_matrix.shape[1])])\n",
    "\n",
    "# The costs should be of size of the number of margins\n",
    "costs = (1,1) # We give here same costs to both variables"
   ]
  },
  {
   "cell_type": "markdown",
   "id": "321ae34d-59df-4f2f-b69a-8c4d0746f118",
   "metadata": {},
   "source": [
    "# Margin Calibration"
   ]
  },
  {
   "cell_type": "code",
   "execution_count": 47,
   "id": "2ac6f8e5-e1ab-473a-af88-be7e4592ca50",
   "metadata": {},
   "outputs": [],
   "source": [
    "mc=MarginCalibration()\n",
    "mc_logit=MarginCalibration(\"logit\", .5, 1.5)\n",
    "mc_rr=MarginCalibration(\"raking_ratio\")\n",
    "mc_lt=MarginCalibration(\"truncated_linear\", .5, 1.5)"
   ]
  },
  {
   "cell_type": "code",
   "execution_count": 48,
   "id": "e330d364-cdb0-4429-83da-3dad9875e3a3",
   "metadata": {},
   "outputs": [
    {
     "data": {
      "text/plain": [
       "array([ 6.13969356e+01,  4.71882769e+02,  3.84449086e+02, -5.09556222e+01,\n",
       "        5.57095813e+01,  3.20863045e+02,  1.62417446e+02, -1.05865612e+02,\n",
       "        1.77836254e+04, -3.56604817e+02, -4.25261632e+01,  1.02887393e+03,\n",
       "        2.87979151e+02,  1.20537706e+03,  5.70938751e+02, -2.05643646e+01,\n",
       "        8.21692462e+01,  2.42507109e+01, -2.38766279e+00, -1.38373723e+02,\n",
       "       -2.87394591e+02,  1.19913543e+03,  7.31373022e+01,  1.07848396e+02,\n",
       "        1.64023035e+01,  2.74946345e+03,  1.07734843e+02, -2.21374699e+03,\n",
       "       -7.54841384e+01,  1.73351106e+01,  1.01679650e+04,  6.33954724e+01,\n",
       "       -4.63530520e+02, -4.13216370e+01,  1.12366841e+02, -3.76259655e+02,\n",
       "        2.12306774e+02,  2.54982710e+03,  9.41841357e+01, -8.84221253e+02,\n",
       "        7.54090630e+02,  3.15049572e+02, -1.44935852e+03, -4.51429490e+01,\n",
       "        5.62217996e+02, -7.88965309e+01,  1.71594049e+02, -1.55616406e+01,\n",
       "        6.36699019e+01, -1.63147979e+02,  9.43626723e+01,  2.28226608e+02,\n",
       "       -1.18536429e+02,  9.67876518e+01,  1.05257037e+02, -1.92775807e+02,\n",
       "        8.02533662e+02,  1.75478261e+02, -2.17280503e+01,  1.13205137e+03,\n",
       "        1.13715986e+02, -7.65369076e+01,  2.23702379e+02, -1.90186120e+02,\n",
       "       -4.38502059e+02, -7.39941474e+01,  3.03012996e+02,  2.53776382e+02,\n",
       "       -2.42966273e+01,  3.17201565e+01,  7.48320817e+01, -1.06903872e+02,\n",
       "        1.48251161e+02,  9.31534435e+02,  1.47762513e+03, -9.66221131e+00,\n",
       "        5.54193252e+01,  1.85086644e+02,  6.22420102e+01, -1.12386568e+02,\n",
       "        2.77111738e+02, -1.46956196e+02,  4.55474801e+02, -1.80679491e+02,\n",
       "        1.11750046e+02, -9.22923967e+02,  5.59789745e+01,  3.17413939e+01,\n",
       "       -2.87852145e+00,  1.08038499e+02, -3.26703774e+02, -6.17577004e+02,\n",
       "        1.07418254e+03,  1.26785604e+02,  4.78460968e+01,  1.33492230e+02,\n",
       "        3.27052551e+01,  2.28943530e+02,  6.15937845e+01,  4.36344302e+00])"
      ]
     },
     "execution_count": 48,
     "metadata": {},
     "output_type": "execute_result"
    }
   ],
   "source": [
    "mc.calibration(sampling_probabilities, calibration_matrix, calibration_target).x"
   ]
  },
  {
   "cell_type": "code",
   "execution_count": null,
   "id": "6502184e-961c-4e37-bf6a-bebf208c3f66",
   "metadata": {},
   "outputs": [],
   "source": [
    "mc_logit.calibration(sampling_probabilities, calibration_matrix, calibration_target).x"
   ]
  },
  {
   "cell_type": "code",
   "execution_count": null,
   "id": "f74f1db7-6153-4669-8e4e-40eb7166865f",
   "metadata": {},
   "outputs": [],
   "source": [
    "mc_rr.calibration(sampling_probabilities, calibration_matrix, calibration_target).x"
   ]
  },
  {
   "cell_type": "code",
   "execution_count": null,
   "id": "2eb01dfd-c6fe-47a3-90be-079307323280",
   "metadata": {},
   "outputs": [],
   "source": [
    "mc_lt.calibration(sampling_probabilities, calibration_matrix, calibration_target).x"
   ]
  },
  {
   "cell_type": "markdown",
   "id": "297e66a4-a526-4de6-b33e-cc4158532e79",
   "metadata": {},
   "source": [
    "# Penalized Margin Calibration"
   ]
  },
  {
   "cell_type": "code",
   "execution_count": null,
   "id": "83c1af58-e449-4cb2-a868-a8e0914925bd",
   "metadata": {},
   "outputs": [],
   "source": [
    "mc_pen=MarginCalibration(penalty=.1, costs=costs)\n",
    "mc_logit_pen=MarginCalibration(\"logit\", .5, 1.5, penalty=.1, costs=costs)\n",
    "mc_rr_pen=MarginCalibration(\"raking_ratio\", penalty=.1, costs=costs)\n",
    "mc_lt_pen=MarginCalibration(\"truncated_linear\", .5, 1.5, penalty=.1, costs=costs)"
   ]
  },
  {
   "cell_type": "code",
   "execution_count": null,
   "id": "5c957e71-f3c3-4732-a1cf-8b40367f1303",
   "metadata": {},
   "outputs": [],
   "source": [
    "mc_pen.calibration(sampling_probabilities, calibration_matrix, calibration_target).x"
   ]
  },
  {
   "cell_type": "code",
   "execution_count": null,
   "id": "ad4928e8-3516-4dc6-95fd-c271906e261d",
   "metadata": {},
   "outputs": [],
   "source": [
    "mc_logit_pen.calibration(sampling_probabilities, calibration_matrix, calibration_target).x"
   ]
  },
  {
   "cell_type": "code",
   "execution_count": null,
   "id": "ac0109dd-6a8f-47e9-b523-894195eec787",
   "metadata": {},
   "outputs": [],
   "source": [
    "mc_rr_pen.calibration(sampling_probabilities, calibration_matrix, calibration_target).x"
   ]
  },
  {
   "cell_type": "code",
   "execution_count": null,
   "id": "09a32c97-e2c7-4b58-bf51-97198cb8a377",
   "metadata": {},
   "outputs": [],
   "source": [
    "mc_lt_pen.calibration(sampling_probabilities, calibration_matrix, calibration_target).x"
   ]
  }
 ],
 "metadata": {
  "kernelspec": {
   "display_name": "Python 3 (ipykernel)",
   "language": "python",
   "name": "python3"
  },
  "language_info": {
   "codemirror_mode": {
    "name": "ipython",
    "version": 3
   },
   "file_extension": ".py",
   "mimetype": "text/x-python",
   "name": "python",
   "nbconvert_exporter": "python",
   "pygments_lexer": "ipython3",
   "version": "3.12.7"
  }
 },
 "nbformat": 4,
 "nbformat_minor": 5
}
