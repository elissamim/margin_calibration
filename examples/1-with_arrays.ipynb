{
 "cells": [
  {
   "cell_type": "code",
   "execution_count": 67,
   "id": "81ae476a-a2b4-49de-9bec-713c5ae1225f",
   "metadata": {},
   "outputs": [
    {
     "name": "stdout",
     "output_type": "stream",
     "text": [
      "The autoreload extension is already loaded. To reload it, use:\n",
      "  %reload_ext autoreload\n"
     ]
    }
   ],
   "source": [
    "%load_ext autoreload\n",
    "%autoreload 2"
   ]
  },
  {
   "cell_type": "code",
   "execution_count": 68,
   "id": "658eb63f-478e-40ea-a14e-a4a775db1f39",
   "metadata": {},
   "outputs": [],
   "source": [
    "import numpy as np\n",
    "import pandas as pd\n",
    "import warnings\n",
    "import sys\n",
    "\n",
    "sys.path.append(\"../src\")\n",
    "from margin_calibration import MarginCalibration"
   ]
  },
  {
   "cell_type": "code",
   "execution_count": 69,
   "id": "e55d6ea9-2889-47a9-90ba-f65b0561d9a3",
   "metadata": {},
   "outputs": [],
   "source": [
    "warnings.simplefilter(\"ignore\")"
   ]
  },
  {
   "cell_type": "markdown",
   "id": "36484820-2066-4e6e-8ff8-a13308a24e7e",
   "metadata": {},
   "source": [
    "# Dataset Generation"
   ]
  },
  {
   "cell_type": "code",
   "execution_count": 70,
   "id": "be30f266-344a-4fd9-8547-4a13ff367928",
   "metadata": {
    "scrolled": true
   },
   "outputs": [],
   "source": [
    "# Create a 100 random observations with their respective\n",
    "# sampling weights, such that those weights sum to 20 %\n",
    "n_obs = 100\n",
    "sampling_probabilities = np.random.rand(n_obs, 1).flatten()\n",
    "sampling_probabilities = sampling_probabilities / sampling_probabilities.sum() *.2\n",
    "\n",
    "# Create a matrix of size n_obs * n_margins, with margins ranging from 0 to 1000\n",
    "n_margins = 2 # Let say we have two variables\n",
    "calibration_matrix = 1000*np.random.rand(n_obs, n_margins)\n",
    "\n",
    "# Now we create the calibration target\n",
    "# It is of sier n_margins * 1 and contains the \n",
    "# sums of the margins over all the population\n",
    "calibration_target = np.array([np.sum(calibration_matrix[:, i])*100 for i in range(calibration_matrix.shape[1])])\n",
    "\n",
    "# The costs should be of size of the number of margins\n",
    "costs = (1,1) # We give here same costs to both variables"
   ]
  },
  {
   "cell_type": "markdown",
   "id": "321ae34d-59df-4f2f-b69a-8c4d0746f118",
   "metadata": {},
   "source": [
    "# Margin Calibration"
   ]
  },
  {
   "cell_type": "code",
   "execution_count": 71,
   "id": "2ac6f8e5-e1ab-473a-af88-be7e4592ca50",
   "metadata": {},
   "outputs": [],
   "source": [
    "mc=MarginCalibration()\n",
    "mc_logit=MarginCalibration(\"logit\", .5, 1.5)\n",
    "mc_rr=MarginCalibration(\"raking_ratio\")\n",
    "mc_lt=MarginCalibration(\"truncated_linear\", .5, 1.5)"
   ]
  },
  {
   "cell_type": "code",
   "execution_count": 72,
   "id": "e330d364-cdb0-4429-83da-3dad9875e3a3",
   "metadata": {},
   "outputs": [
    {
     "name": "stdout",
     "output_type": "stream",
     "text": [
      "CPU times: user 11 s, sys: 1.48 ms, total: 11 s\n",
      "Wall time: 1.6 s\n"
     ]
    },
    {
     "data": {
      "text/plain": [
       "array([ 2.29593425e+03,  9.20545208e+02,  1.09096607e+02, -3.03178292e+00,\n",
       "       -5.00271426e+01, -3.52665001e+01, -4.39878483e+02, -1.12680630e+03,\n",
       "        2.68243391e+02,  1.40051091e+03, -5.22999938e+01,  9.64619056e+02,\n",
       "        5.84631144e+02,  4.39468821e+02, -2.56084682e+01,  5.56607315e+02,\n",
       "        1.45378148e+02,  5.65028612e+02, -1.27357836e+02, -9.39588221e+01,\n",
       "       -5.43150232e+01,  1.25432775e+02,  1.72686005e+02, -1.11247072e+01,\n",
       "        8.68234261e+01,  9.98829483e+01,  1.21266091e+02,  7.35376060e+01,\n",
       "        2.94606832e+02, -8.36416459e+02,  1.44352177e+03,  2.33689340e+02,\n",
       "        3.28411499e+02, -7.30709386e+03, -6.09947774e+01, -6.03790701e+01,\n",
       "        2.02604144e+02,  3.15722505e+02,  1.68644747e+02, -1.38443969e+02,\n",
       "       -1.22604582e+02,  2.51835822e+01,  8.54712141e+00, -7.32591375e+01,\n",
       "        2.34489502e+02,  2.25250792e+02, -1.88811935e+01,  1.20391518e+03,\n",
       "        2.13312617e+01, -2.05709991e+01,  4.38651712e+02,  2.47863176e+02,\n",
       "        1.88896902e+02,  5.53382448e+02,  2.19829674e+01, -5.29451232e+01,\n",
       "       -5.76817738e+02, -1.24480210e+02, -9.41519040e+01, -1.85993833e+02,\n",
       "       -9.96369100e+00,  5.51070471e+01, -1.23827580e+02, -1.16902682e+02,\n",
       "       -1.46233707e+02,  4.55082241e+01,  3.72601722e+02, -1.38343709e+03,\n",
       "        1.98718455e+02,  2.74059981e+03,  1.95912588e+01,  1.27853880e+02,\n",
       "       -8.23632161e+01,  8.61028275e+00,  6.19765843e+01, -6.52789839e+01,\n",
       "        2.25298157e+02,  1.51577144e+02, -9.95530085e+01,  8.93729073e+01,\n",
       "        6.48606202e+01,  1.54265397e+03, -1.12906928e+02,  1.20286911e+02,\n",
       "       -4.43444110e+02, -9.59457343e+01, -9.93901453e+01,  1.74488049e+02,\n",
       "        2.09159406e+04,  6.73152969e+01,  6.22627012e+02,  7.88062882e+01,\n",
       "        3.66610800e+00, -8.36913175e+01,  1.01717529e+03, -5.99420987e+01,\n",
       "        3.76335166e+02, -3.54874220e+01,  2.22941316e+03,  2.01746430e+02])"
      ]
     },
     "execution_count": 72,
     "metadata": {},
     "output_type": "execute_result"
    }
   ],
   "source": [
    "%%time\n",
    "mc.calibration(sampling_probabilities, calibration_matrix, calibration_target).x"
   ]
  },
  {
   "cell_type": "code",
   "execution_count": null,
   "id": "6502184e-961c-4e37-bf6a-bebf208c3f66",
   "metadata": {},
   "outputs": [],
   "source": [
    "%%time\n",
    "mc_logit.calibration(sampling_probabilities, calibration_matrix, calibration_target).x"
   ]
  },
  {
   "cell_type": "code",
   "execution_count": null,
   "id": "f74f1db7-6153-4669-8e4e-40eb7166865f",
   "metadata": {
    "scrolled": true
   },
   "outputs": [],
   "source": [
    "%%time\n",
    "mc_rr.calibration(sampling_probabilities, calibration_matrix, calibration_target).x"
   ]
  },
  {
   "cell_type": "code",
   "execution_count": null,
   "id": "2eb01dfd-c6fe-47a3-90be-079307323280",
   "metadata": {},
   "outputs": [],
   "source": [
    "%%time\n",
    "mc_lt.calibration(sampling_probabilities, calibration_matrix, calibration_target).x"
   ]
  },
  {
   "cell_type": "markdown",
   "id": "297e66a4-a526-4de6-b33e-cc4158532e79",
   "metadata": {},
   "source": [
    "# Penalized Margin Calibration"
   ]
  },
  {
   "cell_type": "code",
   "execution_count": null,
   "id": "83c1af58-e449-4cb2-a868-a8e0914925bd",
   "metadata": {},
   "outputs": [],
   "source": [
    "mc_pen=MarginCalibration(penalty=.1, costs=costs)\n",
    "mc_logit_pen=MarginCalibration(\"logit\", .5, 1.5, penalty=.1, costs=costs)\n",
    "mc_rr_pen=MarginCalibration(\"raking_ratio\", penalty=.1, costs=costs)\n",
    "mc_lt_pen=MarginCalibration(\"truncated_linear\", .5, 1.5, penalty=.1, costs=costs)"
   ]
  },
  {
   "cell_type": "code",
   "execution_count": null,
   "id": "5c957e71-f3c3-4732-a1cf-8b40367f1303",
   "metadata": {},
   "outputs": [],
   "source": [
    "%%time\n",
    "mc_pen.calibration(sampling_probabilities, calibration_matrix, calibration_target).x"
   ]
  },
  {
   "cell_type": "code",
   "execution_count": null,
   "id": "ad4928e8-3516-4dc6-95fd-c271906e261d",
   "metadata": {},
   "outputs": [],
   "source": [
    "%%time\n",
    "mc_logit_pen.calibration(sampling_probabilities, calibration_matrix, calibration_target).x"
   ]
  },
  {
   "cell_type": "code",
   "execution_count": null,
   "id": "ac0109dd-6a8f-47e9-b523-894195eec787",
   "metadata": {},
   "outputs": [],
   "source": [
    "%%time\n",
    "mc_rr_pen.calibration(sampling_probabilities, calibration_matrix, calibration_target).x"
   ]
  },
  {
   "cell_type": "code",
   "execution_count": null,
   "id": "09a32c97-e2c7-4b58-bf51-97198cb8a377",
   "metadata": {},
   "outputs": [],
   "source": [
    "%%time\n",
    "mc_lt_pen.calibration(sampling_probabilities, calibration_matrix, calibration_target).x"
   ]
  }
 ],
 "metadata": {
  "kernelspec": {
   "display_name": "Python 3 (ipykernel)",
   "language": "python",
   "name": "python3"
  },
  "language_info": {
   "codemirror_mode": {
    "name": "ipython",
    "version": 3
   },
   "file_extension": ".py",
   "mimetype": "text/x-python",
   "name": "python",
   "nbconvert_exporter": "python",
   "pygments_lexer": "ipython3",
   "version": "3.12.7"
  }
 },
 "nbformat": 4,
 "nbformat_minor": 5
}
