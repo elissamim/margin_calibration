{
 "cells": [
  {
   "cell_type": "code",
   "execution_count": 44,
   "id": "81ae476a-a2b4-49de-9bec-713c5ae1225f",
   "metadata": {},
   "outputs": [
    {
     "name": "stdout",
     "output_type": "stream",
     "text": [
      "The autoreload extension is already loaded. To reload it, use:\n",
      "  %reload_ext autoreload\n"
     ]
    }
   ],
   "source": [
    "%load_ext autoreload\n",
    "%autoreload 2"
   ]
  },
  {
   "cell_type": "code",
   "execution_count": 45,
   "id": "658eb63f-478e-40ea-a14e-a4a775db1f39",
   "metadata": {},
   "outputs": [],
   "source": [
    "import numpy as np\n",
    "import pandas as pd\n",
    "import warnings\n",
    "import sys\n",
    "\n",
    "sys.path.append(\"../src\")\n",
    "from margin_calibration import MarginCalibration"
   ]
  },
  {
   "cell_type": "code",
   "execution_count": 46,
   "id": "37a7ab76-5b1c-46d4-b848-ffeb54fb95cd",
   "metadata": {},
   "outputs": [],
   "source": [
    "warnings.simplefilter(\"ignore\")"
   ]
  },
  {
   "cell_type": "markdown",
   "id": "36484820-2066-4e6e-8ff8-a13308a24e7e",
   "metadata": {},
   "source": [
    "# Dataset Generation"
   ]
  },
  {
   "cell_type": "code",
   "execution_count": 47,
   "id": "be30f266-344a-4fd9-8547-4a13ff367928",
   "metadata": {
    "scrolled": true
   },
   "outputs": [],
   "source": [
    "# Create a 100 random observations with their respective\n",
    "# sampling weights, such that those weights sum to 20 %\n",
    "n_obs = 100\n",
    "sampling_probabilities = np.random.rand(n_obs, 1).flatten()\n",
    "sampling_probabilities = sampling_probabilities / sampling_probabilities.sum() *.2\n",
    "\n",
    "# Create a matrix of size n_obs * n_margins, with margins ranging from 0 to 1000\n",
    "n_margins = 2 # Let say we have two variables\n",
    "calibration_matrix = 1000*np.random.rand(n_obs, n_margins)\n",
    "\n",
    "# Now we create the calibration target\n",
    "# It is of sier n_margins * 1 and contains the \n",
    "# sums of the margins over all the population\n",
    "calibration_target = np.array([np.sum(calibration_matrix[:, i])*100 for i in range(calibration_matrix.shape[1])])\n",
    "\n",
    "# The costs should be of size of the number of margins\n",
    "costs = (1,1) # We give here same costs to both variables\n",
    "\n",
    "# Let say we want to work with want to work with pandas dataframes \n",
    "# instead of numpy arrays\n",
    "sampling_probabilities = pd.DataFrame(sampling_probabilities, columns=[\"weights\"])\n",
    "calibration_matrix = pd.DataFrame(calibration_matrix, columns = [\"margin1\", \"margin2\"])\n",
    "calibration_target = pd.DataFrame(calibration_target, columns = [\"margin_sums\"])"
   ]
  },
  {
   "cell_type": "markdown",
   "id": "321ae34d-59df-4f2f-b69a-8c4d0746f118",
   "metadata": {},
   "source": [
    "# Margin Calibration"
   ]
  },
  {
   "cell_type": "code",
   "execution_count": 48,
   "id": "2ac6f8e5-e1ab-473a-af88-be7e4592ca50",
   "metadata": {},
   "outputs": [],
   "source": [
    "mc=MarginCalibration()\n",
    "mc_logit=MarginCalibration(\"logit\", .5, 1.5)\n",
    "mc_rr=MarginCalibration(\"raking_ratio\")\n",
    "mc_lt=MarginCalibration(\"truncated_linear\", .5, 1.5)"
   ]
  },
  {
   "cell_type": "code",
   "execution_count": 49,
   "id": "e330d364-cdb0-4429-83da-3dad9875e3a3",
   "metadata": {},
   "outputs": [
    {
     "name": "stdout",
     "output_type": "stream",
     "text": [
      "CPU times: user 861 ms, sys: 1 μs, total: 861 ms\n",
      "Wall time: 132 ms\n"
     ]
    },
    {
     "data": {
      "text/plain": [
       "array([-8.62927279e+02,  3.37323904e+03,  6.58306731e+02,  8.58933346e+01,\n",
       "        1.08068917e+02,  3.18720989e+02,  2.47091483e+02, -1.09729706e+02,\n",
       "        8.97581530e+01,  1.46036516e+02,  3.73436870e+02, -5.28730137e+02,\n",
       "        4.82030498e+02,  4.00200083e+02,  8.32482781e+01, -8.03151799e+01,\n",
       "        5.43909915e+02,  1.87119981e+02,  9.53283493e+02,  4.71954814e+01,\n",
       "        3.89095256e+02, -8.83156722e+01,  1.50339674e+02, -2.03980305e+02,\n",
       "       -9.00828151e+01, -6.58302529e+01, -9.38809602e+01,  3.09446654e+02,\n",
       "        1.41568702e+02, -3.04085370e+02,  2.38639550e+02,  1.51286289e+02,\n",
       "       -1.51546368e+02, -4.47263914e+01,  3.05395549e+02,  2.14962644e+02,\n",
       "        1.23056053e+02,  3.90656535e+02,  1.93275278e+01,  5.14721326e+01,\n",
       "        1.05524808e+02,  2.02963691e+02,  7.97154028e+02,  1.33058955e+02,\n",
       "       -9.40917453e+01,  2.14797598e+01,  4.85236843e+01,  6.94765987e+02,\n",
       "        7.53635092e+01, -4.10535822e+00, -6.29667474e+00, -6.97961651e+01,\n",
       "        7.62053988e+01,  6.89524038e+01, -2.96920897e+02,  9.56541112e+01,\n",
       "        5.31633392e+02, -3.85675288e+01, -2.83641621e+02,  2.11950872e+02,\n",
       "        3.58724375e+01,  5.59628209e+01,  2.89180342e+01, -8.84066751e+00,\n",
       "        6.77361954e+01, -9.48336347e+01, -4.49371221e+01,  1.06806962e+02,\n",
       "        4.58122642e+01,  2.16822601e+02,  5.12366474e+02, -1.22369173e+02,\n",
       "        3.45898830e+02,  8.66276307e+02,  2.85064079e+02,  3.32198726e+02,\n",
       "       -3.33239308e+02,  2.77375017e+01, -1.27877315e+02, -2.62941017e+01,\n",
       "        2.04600967e+02,  5.48529007e+01,  3.42948992e+01,  3.07745864e+02,\n",
       "        5.33017581e+03, -2.47104155e+01, -8.11821266e+01,  1.83579386e+02,\n",
       "       -2.36286871e+02,  1.34255581e+01, -4.17492033e-01,  2.77728862e+02,\n",
       "        3.17962276e+02, -2.23196271e+03,  7.82269358e+03, -1.33922690e+02,\n",
       "        1.32404218e+03,  1.09487040e+03,  5.15305698e+02,  5.03205636e+01])"
      ]
     },
     "execution_count": 49,
     "metadata": {},
     "output_type": "execute_result"
    }
   ],
   "source": [
    "%%time\n",
    "mc.calibration(sampling_probabilities, calibration_matrix, calibration_target).x"
   ]
  },
  {
   "cell_type": "code",
   "execution_count": null,
   "id": "6502184e-961c-4e37-bf6a-bebf208c3f66",
   "metadata": {},
   "outputs": [],
   "source": [
    "%%time\n",
    "mc_logit.calibration(sampling_probabilities, calibration_matrix, calibration_target).x"
   ]
  },
  {
   "cell_type": "code",
   "execution_count": null,
   "id": "f74f1db7-6153-4669-8e4e-40eb7166865f",
   "metadata": {},
   "outputs": [],
   "source": [
    "%%time\n",
    "mc_rr.calibration(sampling_probabilities, calibration_matrix, calibration_target).x"
   ]
  },
  {
   "cell_type": "code",
   "execution_count": null,
   "id": "2eb01dfd-c6fe-47a3-90be-079307323280",
   "metadata": {},
   "outputs": [],
   "source": [
    "%%time\n",
    "mc_lt.calibration(sampling_probabilities, calibration_matrix, calibration_target).x"
   ]
  },
  {
   "cell_type": "markdown",
   "id": "297e66a4-a526-4de6-b33e-cc4158532e79",
   "metadata": {},
   "source": [
    "# Penalized Margin Calibration"
   ]
  },
  {
   "cell_type": "code",
   "execution_count": null,
   "id": "83c1af58-e449-4cb2-a868-a8e0914925bd",
   "metadata": {},
   "outputs": [],
   "source": [
    "mc_pen=MarginCalibration(penalty=.1, costs=costs)\n",
    "mc_logit_pen=MarginCalibration(\"logit\", .5, 1.5, penalty=.1, costs=costs)\n",
    "mc_rr_pen=MarginCalibration(\"raking_ratio\", penalty=.1, costs=costs)\n",
    "mc_lt_pen=MarginCalibration(\"truncated_linear\", .5, 1.5, penalty=.1, costs=costs)"
   ]
  },
  {
   "cell_type": "code",
   "execution_count": null,
   "id": "5c957e71-f3c3-4732-a1cf-8b40367f1303",
   "metadata": {},
   "outputs": [],
   "source": [
    "%%time\n",
    "mc_pen.calibration(sampling_probabilities, calibration_matrix, calibration_target).x"
   ]
  },
  {
   "cell_type": "code",
   "execution_count": null,
   "id": "ad4928e8-3516-4dc6-95fd-c271906e261d",
   "metadata": {},
   "outputs": [],
   "source": [
    "%%time\n",
    "mc_logit_pen.calibration(sampling_probabilities, calibration_matrix, calibration_target).x"
   ]
  },
  {
   "cell_type": "code",
   "execution_count": null,
   "id": "ac0109dd-6a8f-47e9-b523-894195eec787",
   "metadata": {},
   "outputs": [],
   "source": [
    "%%time\n",
    "mc_rr_pen.calibration(sampling_probabilities, calibration_matrix, calibration_target).x"
   ]
  },
  {
   "cell_type": "code",
   "execution_count": null,
   "id": "09a32c97-e2c7-4b58-bf51-97198cb8a377",
   "metadata": {},
   "outputs": [],
   "source": [
    "%%time\n",
    "mc_lt_pen.calibration(sampling_probabilities, calibration_matrix, calibration_target).x"
   ]
  }
 ],
 "metadata": {
  "kernelspec": {
   "display_name": "Python 3 (ipykernel)",
   "language": "python",
   "name": "python3"
  },
  "language_info": {
   "codemirror_mode": {
    "name": "ipython",
    "version": 3
   },
   "file_extension": ".py",
   "mimetype": "text/x-python",
   "name": "python",
   "nbconvert_exporter": "python",
   "pygments_lexer": "ipython3",
   "version": "3.12.7"
  }
 },
 "nbformat": 4,
 "nbformat_minor": 5
}
