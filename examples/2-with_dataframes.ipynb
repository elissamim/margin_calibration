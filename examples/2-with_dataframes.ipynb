{
 "cells": [
  {
   "cell_type": "code",
   "execution_count": 2,
   "id": "81ae476a-a2b4-49de-9bec-713c5ae1225f",
   "metadata": {},
   "outputs": [],
   "source": [
    "%load_ext autoreload\n",
    "%autoreload 2"
   ]
  },
  {
   "cell_type": "code",
   "execution_count": 18,
   "id": "658eb63f-478e-40ea-a14e-a4a775db1f39",
   "metadata": {},
   "outputs": [],
   "source": [
    "import numpy as np\n",
    "import pandas as pd\n",
    "import warnings\n",
    "import sys\n",
    "\n",
    "sys.path.append(\"../src\")\n",
    "from margin_calibration import MarginCalibration"
   ]
  },
  {
   "cell_type": "code",
   "execution_count": 19,
   "id": "37a7ab76-5b1c-46d4-b848-ffeb54fb95cd",
   "metadata": {},
   "outputs": [],
   "source": [
    "warnings.simplefilter(\"ignore\")"
   ]
  },
  {
   "cell_type": "markdown",
   "id": "36484820-2066-4e6e-8ff8-a13308a24e7e",
   "metadata": {},
   "source": [
    "# Dataset Generation"
   ]
  },
  {
   "cell_type": "code",
   "execution_count": 20,
   "id": "be30f266-344a-4fd9-8547-4a13ff367928",
   "metadata": {
    "scrolled": true
   },
   "outputs": [],
   "source": [
    "# Create a 100 random observations with their respective\n",
    "# sampling weights, such that those weights sum to 20 %\n",
    "n_obs = 100\n",
    "sampling_probabilities = np.random.rand(n_obs, 1).flatten()\n",
    "sampling_probabilities = sampling_probabilities / sampling_probabilities.sum() *.2\n",
    "\n",
    "# Create a matrix of size n_obs * n_margins, with margins ranging from 0 to 1000\n",
    "n_margins = 2 # Let say we have two variables\n",
    "calibration_matrix = 1000*np.random.rand(n_obs, n_margins)\n",
    "\n",
    "# Now we create the calibration target\n",
    "# It is of sier n_margins * 1 and contains the \n",
    "# sums of the margins over all the population\n",
    "calibration_target = np.array([np.sum(calibration_matrix[:, i])*100 for i in range(calibration_matrix.shape[1])])\n",
    "\n",
    "# The costs should be of size of the number of margins\n",
    "costs = (1,1) # We give here same costs to both variables\n",
    "\n",
    "# Let say we want to work with want to work with pandas dataframes \n",
    "# instead of numpy arrays\n",
    "sampling_probabilities = pd.DataFrame(sampling_probabilities, columns=[\"weights\"])\n",
    "calibration_matrix = pd.DataFrame(calibration_matrix, columns = [\"margin1\", \"margin2\"])\n",
    "calibration_target = pd.DataFrame(calibration_target, columns = [\"margin_sums\"])"
   ]
  },
  {
   "cell_type": "markdown",
   "id": "321ae34d-59df-4f2f-b69a-8c4d0746f118",
   "metadata": {},
   "source": [
    "# Margin Calibration"
   ]
  },
  {
   "cell_type": "code",
   "execution_count": 21,
   "id": "2ac6f8e5-e1ab-473a-af88-be7e4592ca50",
   "metadata": {},
   "outputs": [],
   "source": [
    "mc=MarginCalibration()\n",
    "mc_logit=MarginCalibration(\"logit\", .5, 1.5)\n",
    "mc_rr=MarginCalibration(\"raking_ratio\")\n",
    "mc_lt=MarginCalibration(\"truncated_linear\", .5, 1.5)"
   ]
  },
  {
   "cell_type": "code",
   "execution_count": 22,
   "id": "e330d364-cdb0-4429-83da-3dad9875e3a3",
   "metadata": {},
   "outputs": [
    {
     "data": {
      "text/plain": [
       "array([ 7.07792502e+01, -2.62140030e+02, -1.24370917e+01,  2.66288041e+02,\n",
       "        5.45251000e+02,  7.08635853e+01, -8.37956135e+01, -9.86135412e+01,\n",
       "       -2.39231847e+01,  8.00188009e+01,  2.30923252e+02, -1.45550020e+01,\n",
       "       -2.12817792e+02,  9.86280855e+01, -1.93353734e+01,  6.41679375e+01,\n",
       "        1.00625921e+01,  5.42886727e+02,  2.37861455e+03,  2.54512019e+02,\n",
       "        7.19214066e+01, -3.81435529e+02,  7.03474736e+02,  8.78881960e+02,\n",
       "       -1.44019177e+02,  1.58068427e+02,  1.88833690e+03,  1.23218383e+02,\n",
       "        5.45527564e+02,  1.60500200e+02,  3.64307249e+02,  7.18915170e+02,\n",
       "       -2.19219921e+02,  3.64937120e+01,  2.13727742e+01,  2.67000978e+02,\n",
       "       -3.68051907e+01,  3.58448508e+02, -1.43913559e+02,  6.98526501e+02,\n",
       "        3.02951688e+02,  3.57658367e+01,  2.65280074e+02,  9.97289753e+02,\n",
       "       -3.39032758e+02,  1.80221383e+02,  8.26863554e+01,  1.50146173e+03,\n",
       "        1.29555122e+02,  4.81445604e+01,  5.67326233e+02,  4.18447328e+02,\n",
       "       -9.15882035e+01,  1.30310876e+02,  4.91921939e+02,  1.11408801e+03,\n",
       "        1.72763537e+02,  1.77836497e+02,  1.75036954e+00,  2.79395187e+02,\n",
       "       -4.27662376e+01,  1.99414960e+02, -2.48372822e+03,  6.87422969e+02,\n",
       "       -1.10533195e+02,  2.90903123e+02,  2.11647195e+02,  6.08248589e+01,\n",
       "        1.52489532e+02,  1.04875617e+02,  6.74946710e+02, -1.89162163e+01,\n",
       "        7.64261654e+01, -1.57524114e+01,  2.41705094e+02,  2.39114476e+02,\n",
       "        9.73509625e+01,  9.16792204e+00,  1.55128662e+02,  9.20739351e+00,\n",
       "        3.09594010e+02,  1.64185822e+02, -5.34289490e+01, -1.18585181e+01,\n",
       "       -5.70759117e+01,  2.12858611e+03,  3.62596330e+02,  3.12921246e+02,\n",
       "        1.36465483e+02,  1.14791127e+02,  1.13463233e+01, -5.68897843e+00,\n",
       "        6.53465964e+02, -1.97875314e+02,  2.16925217e+01,  9.16269469e+01,\n",
       "        2.72769732e+00,  1.38364060e+02,  2.97484518e+02,  2.18953421e+02])"
      ]
     },
     "execution_count": 22,
     "metadata": {},
     "output_type": "execute_result"
    }
   ],
   "source": [
    "mc.calibration(sampling_probabilities, calibration_matrix, calibration_target).x"
   ]
  },
  {
   "cell_type": "code",
   "execution_count": null,
   "id": "6502184e-961c-4e37-bf6a-bebf208c3f66",
   "metadata": {},
   "outputs": [],
   "source": [
    "mc_logit.calibration(sampling_probabilities, calibration_matrix, calibration_target).x"
   ]
  },
  {
   "cell_type": "code",
   "execution_count": null,
   "id": "f74f1db7-6153-4669-8e4e-40eb7166865f",
   "metadata": {
    "scrolled": true
   },
   "outputs": [],
   "source": [
    "mc_rr.calibration(sampling_probabilities, calibration_matrix, calibration_target).x"
   ]
  },
  {
   "cell_type": "code",
   "execution_count": null,
   "id": "2eb01dfd-c6fe-47a3-90be-079307323280",
   "metadata": {},
   "outputs": [],
   "source": [
    "mc_lt.calibration(sampling_probabilities, calibration_matrix, calibration_target).x"
   ]
  },
  {
   "cell_type": "markdown",
   "id": "297e66a4-a526-4de6-b33e-cc4158532e79",
   "metadata": {},
   "source": [
    "# Penalized Margin Calibration"
   ]
  },
  {
   "cell_type": "code",
   "execution_count": null,
   "id": "83c1af58-e449-4cb2-a868-a8e0914925bd",
   "metadata": {},
   "outputs": [],
   "source": [
    "mc_pen=MarginCalibration(penalty=.1, costs=costs)\n",
    "mc_logit_pen=MarginCalibration(\"logit\", .5, 1.5, penalty=.1, costs=costs)\n",
    "mc_rr_pen=MarginCalibration(\"raking_ratio\", penalty=.1, costs=costs)\n",
    "mc_lt_pen=MarginCalibration(\"truncated_linear\", .5, 1.5, penalty=.1, costs=costs)"
   ]
  },
  {
   "cell_type": "code",
   "execution_count": null,
   "id": "5c957e71-f3c3-4732-a1cf-8b40367f1303",
   "metadata": {},
   "outputs": [],
   "source": [
    "mc_pen.calibration(sampling_probabilities, calibration_matrix, calibration_target).x"
   ]
  },
  {
   "cell_type": "code",
   "execution_count": null,
   "id": "ad4928e8-3516-4dc6-95fd-c271906e261d",
   "metadata": {},
   "outputs": [],
   "source": [
    "mc_logit_pen.calibration(sampling_probabilities, calibration_matrix, calibration_target).x"
   ]
  },
  {
   "cell_type": "code",
   "execution_count": null,
   "id": "ac0109dd-6a8f-47e9-b523-894195eec787",
   "metadata": {},
   "outputs": [],
   "source": [
    "mc_rr_pen.calibration(sampling_probabilities, calibration_matrix, calibration_target).x"
   ]
  },
  {
   "cell_type": "code",
   "execution_count": null,
   "id": "09a32c97-e2c7-4b58-bf51-97198cb8a377",
   "metadata": {},
   "outputs": [],
   "source": [
    "mc_lt_pen.calibration(sampling_probabilities, calibration_matrix, calibration_target).x"
   ]
  }
 ],
 "metadata": {
  "kernelspec": {
   "display_name": "Python 3 (ipykernel)",
   "language": "python",
   "name": "python3"
  },
  "language_info": {
   "codemirror_mode": {
    "name": "ipython",
    "version": 3
   },
   "file_extension": ".py",
   "mimetype": "text/x-python",
   "name": "python",
   "nbconvert_exporter": "python",
   "pygments_lexer": "ipython3",
   "version": "3.12.7"
  }
 },
 "nbformat": 4,
 "nbformat_minor": 5
}
