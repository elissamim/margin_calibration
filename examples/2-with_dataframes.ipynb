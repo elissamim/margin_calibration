{
 "cells": [
  {
   "cell_type": "code",
   "execution_count": 77,
   "id": "81ae476a-a2b4-49de-9bec-713c5ae1225f",
   "metadata": {},
   "outputs": [
    {
     "name": "stdout",
     "output_type": "stream",
     "text": [
      "The autoreload extension is already loaded. To reload it, use:\n",
      "  %reload_ext autoreload\n"
     ]
    }
   ],
   "source": [
    "%load_ext autoreload\n",
    "%autoreload 2"
   ]
  },
  {
   "cell_type": "code",
   "execution_count": 78,
   "id": "658eb63f-478e-40ea-a14e-a4a775db1f39",
   "metadata": {},
   "outputs": [],
   "source": [
    "import numpy as np\n",
    "import pandas as pd\n",
    "import warnings\n",
    "import sys\n",
    "\n",
    "sys.path.append(\"../src\")\n",
    "from margin_calibration import MarginCalibration"
   ]
  },
  {
   "cell_type": "code",
   "execution_count": 79,
   "id": "37a7ab76-5b1c-46d4-b848-ffeb54fb95cd",
   "metadata": {},
   "outputs": [],
   "source": [
    "warnings.simplefilter(\"ignore\")"
   ]
  },
  {
   "cell_type": "markdown",
   "id": "36484820-2066-4e6e-8ff8-a13308a24e7e",
   "metadata": {},
   "source": [
    "# Dataset Generation"
   ]
  },
  {
   "cell_type": "code",
   "execution_count": 80,
   "id": "be30f266-344a-4fd9-8547-4a13ff367928",
   "metadata": {
    "scrolled": true
   },
   "outputs": [],
   "source": [
    "# Create a 100 random observations with their respective\n",
    "# sampling weights, such that those weights sum to 20 %\n",
    "n_obs = 100\n",
    "sampling_probabilities = np.random.rand(n_obs, 1).flatten()\n",
    "sampling_probabilities = sampling_probabilities / sampling_probabilities.sum() *.2\n",
    "\n",
    "# Create a matrix of size n_obs * n_margins, with margins ranging from 0 to 1000\n",
    "n_margins = 2 # Let say we have two variables\n",
    "calibration_matrix = 1000*np.random.rand(n_obs, n_margins)\n",
    "\n",
    "# Now we create the calibration target\n",
    "# It is of sier n_margins * 1 and contains the \n",
    "# sums of the margins over all the population\n",
    "calibration_target = np.array([np.sum(calibration_matrix[:, i])*100 for i in range(calibration_matrix.shape[1])])\n",
    "\n",
    "# The costs should be of size of the number of margins\n",
    "costs = (1,1) # We give here same costs to both variables\n",
    "\n",
    "# Let say we want to work with want to work with pandas dataframes \n",
    "# instead of numpy arrays\n",
    "sampling_probabilities = pd.DataFrame(sampling_probabilities, columns=[\"weights\"])\n",
    "calibration_matrix = pd.DataFrame(calibration_matrix, columns = [\"margin1\", \"margin2\"])\n",
    "calibration_target = pd.DataFrame(calibration_target, columns = [\"margin_sums\"])"
   ]
  },
  {
   "cell_type": "markdown",
   "id": "321ae34d-59df-4f2f-b69a-8c4d0746f118",
   "metadata": {},
   "source": [
    "# Margin Calibration"
   ]
  },
  {
   "cell_type": "code",
   "execution_count": 84,
   "id": "2ac6f8e5-e1ab-473a-af88-be7e4592ca50",
   "metadata": {},
   "outputs": [],
   "source": [
    "mc=MarginCalibration()\n",
    "mc_logit=MarginCalibration(\"logit\", .5, 1.5)\n",
    "mc_rr=MarginCalibration(\"raking_ratio\")\n",
    "mc_lt=MarginCalibration(\"truncated_linear\", .5, 1.5)"
   ]
  },
  {
   "cell_type": "code",
   "execution_count": 82,
   "id": "e330d364-cdb0-4429-83da-3dad9875e3a3",
   "metadata": {},
   "outputs": [
    {
     "name": "stdout",
     "output_type": "stream",
     "text": [
      "CPU times: user 16.3 s, sys: 16.4 ms, total: 16.4 s\n",
      "Wall time: 2.36 s\n"
     ]
    },
    {
     "data": {
      "text/plain": [
       "array([ 1.46538412e+02,  2.44840497e+01, -2.27143360e+02,  3.37677433e+02,\n",
       "       -1.68444216e+01,  5.63995911e+01, -5.47284279e+01,  3.08495608e+02,\n",
       "        3.54428940e+02,  2.22505460e+02,  1.43553669e+02, -6.78948529e+01,\n",
       "        3.80153957e+02, -1.00475805e+02, -1.36923193e+02,  3.32614259e+02,\n",
       "        3.71267545e+01,  9.09656289e+01, -3.54908153e+02,  1.38891971e+02,\n",
       "        3.59528374e+00,  7.67050968e+01,  6.50140772e+01,  2.57844732e+02,\n",
       "        3.26935789e+02,  5.28916874e+01,  5.74176837e+01, -5.75228318e+02,\n",
       "        1.06446528e+02,  1.66390469e+02, -1.00338639e+02, -2.63550660e+01,\n",
       "       -5.21683481e+00, -5.55190798e+01,  3.49629914e+01,  3.40342075e+02,\n",
       "        1.57197528e+03, -1.63711861e+01,  8.01922631e+01, -1.24919533e+01,\n",
       "        4.32402910e+02,  5.15360786e+02,  1.10167032e+02,  4.99572615e+02,\n",
       "       -8.41231738e+01,  1.24088108e+02,  1.82120573e+03,  1.20207836e+02,\n",
       "        2.80012960e+02,  1.36951460e+02, -1.18184465e+02,  6.96246037e+00,\n",
       "        1.36410124e+02,  1.79436059e+01,  1.45759701e+02,  4.27450140e+03,\n",
       "       -1.86154349e+02,  7.83815443e+02,  1.71618316e+02, -2.25904522e+02,\n",
       "        2.08709727e+02,  5.85321215e+02,  1.55151914e+02,  8.49733301e+01,\n",
       "        1.09538727e+02,  6.28479424e+02,  1.44088106e+02,  5.17534299e+01,\n",
       "        9.17265461e+01,  4.77388886e+02, -1.69130749e+02,  4.60494782e+02,\n",
       "        8.84046301e+01,  3.05859590e+02,  3.84758679e+02,  4.57194405e+02,\n",
       "        2.58382280e+02,  5.31225289e+02,  7.94901014e+01,  6.70314238e+00,\n",
       "        1.37285789e+04,  1.57395670e+03,  8.17507052e+01,  9.32653787e+02,\n",
       "        1.84145595e+02,  9.43596410e+01,  6.13936774e+01,  2.01731545e+03,\n",
       "        1.20317943e+02,  9.34608964e+01,  9.69265052e+01,  1.56633071e+02,\n",
       "        4.35584856e+01,  1.62784055e+02,  1.42116090e+02,  1.38619645e+03,\n",
       "       -4.50457686e+03, -3.47311191e+01,  1.04977128e+02, -1.33654412e+01])"
      ]
     },
     "execution_count": 82,
     "metadata": {},
     "output_type": "execute_result"
    }
   ],
   "source": [
    "%%time\n",
    "mc.calibration(sampling_probabilities, calibration_matrix, calibration_target).x"
   ]
  },
  {
   "cell_type": "code",
   "execution_count": 51,
   "id": "6502184e-961c-4e37-bf6a-bebf208c3f66",
   "metadata": {},
   "outputs": [
    {
     "name": "stdout",
     "output_type": "stream",
     "text": [
      "CPU times: user 7h 57min 27s, sys: 3min 11s, total: 8h 39s\n",
      "Wall time: 31min 18s\n"
     ]
    },
    {
     "data": {
      "text/plain": [
       "array([ 4.91190636e+03, -3.74358928e+02,  1.67848488e+03,  2.99720746e+04,\n",
       "       -8.27062289e+02,  1.17437908e+02,  2.12617212e+02,  1.72016302e+02,\n",
       "        3.94493665e+02,  4.06994883e+02,  1.15840960e+02, -2.36344722e+03,\n",
       "       -1.10726556e+03, -1.89942445e+03,  3.48288143e+02, -1.60931263e+03,\n",
       "       -1.83742318e+02,  3.73759538e+02,  7.24158749e+02,  2.97092985e+02,\n",
       "        2.52821583e+02,  2.97130319e+02, -9.80696220e+02,  3.13648492e+02,\n",
       "        4.38680160e+02,  2.28862448e+02, -1.69982223e+03, -2.44735193e+03,\n",
       "        3.40823026e+02,  2.22686086e+02,  9.36811585e+01, -1.84186868e+03,\n",
       "       -2.58520025e+03,  2.28507485e+02, -7.88093279e+02,  2.79165003e+02,\n",
       "       -1.54695065e+03,  1.86142021e+02, -3.80202500e+02, -1.92393439e+02,\n",
       "       -8.20903606e+02, -1.39077675e+03, -2.98881300e+02,  2.78415062e+03,\n",
       "        1.76267131e+02,  2.93549601e+02, -2.13170688e+03,  3.56186678e+02,\n",
       "        1.58058421e+02,  1.57532497e+02,  1.59371481e+02,  4.60886094e+02,\n",
       "        4.79517955e+02, -1.57360555e+03, -2.44069966e+03, -1.06882052e+03,\n",
       "        4.88743035e+02,  3.15710023e+02, -9.17376264e+02, -2.47682707e+01,\n",
       "       -2.20335774e+03,  1.39149006e+02,  4.52164074e+03,  9.77452067e+01,\n",
       "        1.31916063e+02,  5.01809968e+02,  4.00003801e+02,  1.80353774e+02,\n",
       "        2.98071957e+02,  1.01316653e+02, -7.55127763e+02,  1.48308471e+02,\n",
       "       -1.82391450e+02, -4.74895690e+02,  1.74581163e+03,  2.22747151e+02,\n",
       "       -9.98174354e+02,  2.61726580e+02,  7.25084206e+02,  8.09204653e+02,\n",
       "        1.12305910e+03,  6.44586908e+02, -8.60008554e+02,  5.54446036e+02,\n",
       "        7.12262249e+03,  1.73533343e+02, -1.30040727e+03,  1.74722019e+02,\n",
       "        1.88323101e+02,  1.14092875e+03, -8.76554888e+01, -1.59208411e+03,\n",
       "       -1.86815646e+02, -2.15035911e+02, -2.08263112e+03,  1.34470292e+02,\n",
       "        2.24859549e+03,  6.71751462e+02,  1.30262608e+02,  3.95877475e+02])"
      ]
     },
     "execution_count": 51,
     "metadata": {},
     "output_type": "execute_result"
    }
   ],
   "source": [
    "%%time\n",
    "mc_logit.calibration(sampling_probabilities, calibration_matrix, calibration_target).x"
   ]
  },
  {
   "cell_type": "code",
   "execution_count": 85,
   "id": "f74f1db7-6153-4669-8e4e-40eb7166865f",
   "metadata": {
    "scrolled": true
   },
   "outputs": [
    {
     "ename": "ValueError",
     "evalue": "array must not contain infs or NaNs",
     "output_type": "error",
     "traceback": [
      "\u001b[0;31m---------------------------------------------------------------------------\u001b[0m",
      "\u001b[0;31mValueError\u001b[0m                                Traceback (most recent call last)",
      "File \u001b[0;32m<timed eval>:1\u001b[0m\n",
      "File \u001b[0;32m~/work/margin_calibration/examples/../src/margin_calibration.py:315\u001b[0m, in \u001b[0;36mMarginCalibration.calibration\u001b[0;34m(self, sampling_probabilities, calibration_matrix, calibration_target)\u001b[0m\n\u001b[1;32m    312\u001b[0m \u001b[38;5;28;01melse\u001b[39;00m:\n\u001b[1;32m    313\u001b[0m     bounds \u001b[38;5;241m=\u001b[39m \u001b[38;5;28;01mNone\u001b[39;00m\n\u001b[0;32m--> 315\u001b[0m \u001b[38;5;28;01mreturn\u001b[39;00m \u001b[43mminimize\u001b[49m\u001b[43m(\u001b[49m\n\u001b[1;32m    316\u001b[0m \u001b[43m    \u001b[49m\u001b[38;5;28;43mself\u001b[39;49m\u001b[38;5;241;43m.\u001b[39;49m\u001b[43m_objective\u001b[49m\u001b[43m,\u001b[49m\n\u001b[1;32m    317\u001b[0m \u001b[43m    \u001b[49m\u001b[43mx0\u001b[49m\u001b[38;5;241;43m=\u001b[39;49m\u001b[43mx0\u001b[49m\u001b[43m,\u001b[49m\n\u001b[1;32m    318\u001b[0m \u001b[43m    \u001b[49m\u001b[43mmethod\u001b[49m\u001b[38;5;241;43m=\u001b[39;49m\u001b[38;5;124;43m\"\u001b[39;49m\u001b[38;5;124;43mtrust-constr\u001b[39;49m\u001b[38;5;124;43m\"\u001b[39;49m\u001b[43m,\u001b[49m\n\u001b[1;32m    319\u001b[0m \u001b[43m    \u001b[49m\u001b[43mconstraints\u001b[49m\u001b[38;5;241;43m=\u001b[39;49m\u001b[43mconstraints\u001b[49m\u001b[43m,\u001b[49m\n\u001b[1;32m    320\u001b[0m \u001b[43m    \u001b[49m\u001b[43mbounds\u001b[49m\u001b[38;5;241;43m=\u001b[39;49m\u001b[43mbounds\u001b[49m\u001b[43m,\u001b[49m\n\u001b[1;32m    321\u001b[0m \u001b[43m\u001b[49m\u001b[43m)\u001b[49m\n",
      "File \u001b[0;32m/opt/conda/lib/python3.12/site-packages/scipy/optimize/_minimize.py:753\u001b[0m, in \u001b[0;36mminimize\u001b[0;34m(fun, x0, args, method, jac, hess, hessp, bounds, constraints, tol, callback, options)\u001b[0m\n\u001b[1;32m    750\u001b[0m     res \u001b[38;5;241m=\u001b[39m _minimize_slsqp(fun, x0, args, jac, bounds,\n\u001b[1;32m    751\u001b[0m                           constraints, callback\u001b[38;5;241m=\u001b[39mcallback, \u001b[38;5;241m*\u001b[39m\u001b[38;5;241m*\u001b[39moptions)\n\u001b[1;32m    752\u001b[0m \u001b[38;5;28;01melif\u001b[39;00m meth \u001b[38;5;241m==\u001b[39m \u001b[38;5;124m'\u001b[39m\u001b[38;5;124mtrust-constr\u001b[39m\u001b[38;5;124m'\u001b[39m:\n\u001b[0;32m--> 753\u001b[0m     res \u001b[38;5;241m=\u001b[39m \u001b[43m_minimize_trustregion_constr\u001b[49m\u001b[43m(\u001b[49m\u001b[43mfun\u001b[49m\u001b[43m,\u001b[49m\u001b[43m \u001b[49m\u001b[43mx0\u001b[49m\u001b[43m,\u001b[49m\u001b[43m \u001b[49m\u001b[43margs\u001b[49m\u001b[43m,\u001b[49m\u001b[43m \u001b[49m\u001b[43mjac\u001b[49m\u001b[43m,\u001b[49m\u001b[43m \u001b[49m\u001b[43mhess\u001b[49m\u001b[43m,\u001b[49m\u001b[43m \u001b[49m\u001b[43mhessp\u001b[49m\u001b[43m,\u001b[49m\n\u001b[1;32m    754\u001b[0m \u001b[43m                                       \u001b[49m\u001b[43mbounds\u001b[49m\u001b[43m,\u001b[49m\u001b[43m \u001b[49m\u001b[43mconstraints\u001b[49m\u001b[43m,\u001b[49m\n\u001b[1;32m    755\u001b[0m \u001b[43m                                       \u001b[49m\u001b[43mcallback\u001b[49m\u001b[38;5;241;43m=\u001b[39;49m\u001b[43mcallback\u001b[49m\u001b[43m,\u001b[49m\u001b[43m \u001b[49m\u001b[38;5;241;43m*\u001b[39;49m\u001b[38;5;241;43m*\u001b[39;49m\u001b[43moptions\u001b[49m\u001b[43m)\u001b[49m\n\u001b[1;32m    756\u001b[0m \u001b[38;5;28;01melif\u001b[39;00m meth \u001b[38;5;241m==\u001b[39m \u001b[38;5;124m'\u001b[39m\u001b[38;5;124mdogleg\u001b[39m\u001b[38;5;124m'\u001b[39m:\n\u001b[1;32m    757\u001b[0m     res \u001b[38;5;241m=\u001b[39m _minimize_dogleg(fun, x0, args, jac, hess,\n\u001b[1;32m    758\u001b[0m                            callback\u001b[38;5;241m=\u001b[39mcallback, \u001b[38;5;241m*\u001b[39m\u001b[38;5;241m*\u001b[39moptions)\n",
      "File \u001b[0;32m/opt/conda/lib/python3.12/site-packages/scipy/optimize/_trustregion_constr/minimize_trustregion_constr.py:536\u001b[0m, in \u001b[0;36m_minimize_trustregion_constr\u001b[0;34m(fun, x0, args, grad, hess, hessp, bounds, constraints, xtol, gtol, barrier_tol, sparse_jacobian, callback, maxiter, verbose, finite_diff_rel_step, initial_constr_penalty, initial_tr_radius, initial_barrier_parameter, initial_barrier_tolerance, factorization_method, disp)\u001b[0m\n\u001b[1;32m    527\u001b[0m     _, result \u001b[38;5;241m=\u001b[39m equality_constrained_sqp(\n\u001b[1;32m    528\u001b[0m         fun_and_constr, grad_and_jac, lagrangian_hess,\n\u001b[1;32m    529\u001b[0m         x0, objective\u001b[38;5;241m.\u001b[39mf, objective\u001b[38;5;241m.\u001b[39mg,\n\u001b[0;32m   (...)\u001b[0m\n\u001b[1;32m    532\u001b[0m         initial_constr_penalty, initial_tr_radius,\n\u001b[1;32m    533\u001b[0m         factorization_method)\n\u001b[1;32m    535\u001b[0m \u001b[38;5;28;01melif\u001b[39;00m method \u001b[38;5;241m==\u001b[39m \u001b[38;5;124m'\u001b[39m\u001b[38;5;124mtr_interior_point\u001b[39m\u001b[38;5;124m'\u001b[39m:\n\u001b[0;32m--> 536\u001b[0m     _, result \u001b[38;5;241m=\u001b[39m \u001b[43mtr_interior_point\u001b[49m\u001b[43m(\u001b[49m\n\u001b[1;32m    537\u001b[0m \u001b[43m        \u001b[49m\u001b[43mobjective\u001b[49m\u001b[38;5;241;43m.\u001b[39;49m\u001b[43mfun\u001b[49m\u001b[43m,\u001b[49m\u001b[43m \u001b[49m\u001b[43mobjective\u001b[49m\u001b[38;5;241;43m.\u001b[39;49m\u001b[43mgrad\u001b[49m\u001b[43m,\u001b[49m\u001b[43m \u001b[49m\u001b[43mlagrangian_hess\u001b[49m\u001b[43m,\u001b[49m\n\u001b[1;32m    538\u001b[0m \u001b[43m        \u001b[49m\u001b[43mn_vars\u001b[49m\u001b[43m,\u001b[49m\u001b[43m \u001b[49m\u001b[43mcanonical\u001b[49m\u001b[38;5;241;43m.\u001b[39;49m\u001b[43mn_ineq\u001b[49m\u001b[43m,\u001b[49m\u001b[43m \u001b[49m\u001b[43mcanonical\u001b[49m\u001b[38;5;241;43m.\u001b[39;49m\u001b[43mn_eq\u001b[49m\u001b[43m,\u001b[49m\n\u001b[1;32m    539\u001b[0m \u001b[43m        \u001b[49m\u001b[43mcanonical\u001b[49m\u001b[38;5;241;43m.\u001b[39;49m\u001b[43mfun\u001b[49m\u001b[43m,\u001b[49m\u001b[43m \u001b[49m\u001b[43mcanonical\u001b[49m\u001b[38;5;241;43m.\u001b[39;49m\u001b[43mjac\u001b[49m\u001b[43m,\u001b[49m\n\u001b[1;32m    540\u001b[0m \u001b[43m        \u001b[49m\u001b[43mx0\u001b[49m\u001b[43m,\u001b[49m\u001b[43m \u001b[49m\u001b[43mobjective\u001b[49m\u001b[38;5;241;43m.\u001b[39;49m\u001b[43mf\u001b[49m\u001b[43m,\u001b[49m\u001b[43m \u001b[49m\u001b[43mobjective\u001b[49m\u001b[38;5;241;43m.\u001b[39;49m\u001b[43mg\u001b[49m\u001b[43m,\u001b[49m\n\u001b[1;32m    541\u001b[0m \u001b[43m        \u001b[49m\u001b[43mc_ineq0\u001b[49m\u001b[43m,\u001b[49m\u001b[43m \u001b[49m\u001b[43mJ_ineq0\u001b[49m\u001b[43m,\u001b[49m\u001b[43m \u001b[49m\u001b[43mc_eq0\u001b[49m\u001b[43m,\u001b[49m\u001b[43m \u001b[49m\u001b[43mJ_eq0\u001b[49m\u001b[43m,\u001b[49m\n\u001b[1;32m    542\u001b[0m \u001b[43m        \u001b[49m\u001b[43mstop_criteria\u001b[49m\u001b[43m,\u001b[49m\n\u001b[1;32m    543\u001b[0m \u001b[43m        \u001b[49m\u001b[43mcanonical\u001b[49m\u001b[38;5;241;43m.\u001b[39;49m\u001b[43mkeep_feasible\u001b[49m\u001b[43m,\u001b[49m\n\u001b[1;32m    544\u001b[0m \u001b[43m        \u001b[49m\u001b[43mxtol\u001b[49m\u001b[43m,\u001b[49m\u001b[43m \u001b[49m\u001b[43mstate\u001b[49m\u001b[43m,\u001b[49m\u001b[43m \u001b[49m\u001b[43minitial_barrier_parameter\u001b[49m\u001b[43m,\u001b[49m\n\u001b[1;32m    545\u001b[0m \u001b[43m        \u001b[49m\u001b[43minitial_barrier_tolerance\u001b[49m\u001b[43m,\u001b[49m\n\u001b[1;32m    546\u001b[0m \u001b[43m        \u001b[49m\u001b[43minitial_constr_penalty\u001b[49m\u001b[43m,\u001b[49m\u001b[43m \u001b[49m\u001b[43minitial_tr_radius\u001b[49m\u001b[43m,\u001b[49m\n\u001b[1;32m    547\u001b[0m \u001b[43m        \u001b[49m\u001b[43mfactorization_method\u001b[49m\u001b[43m,\u001b[49m\u001b[43m \u001b[49m\u001b[43mfinite_diff_bounds\u001b[49m\u001b[43m)\u001b[49m\n\u001b[1;32m    549\u001b[0m \u001b[38;5;66;03m# Status 4 occurs when minimize is successful but constraints are not satisfied.\u001b[39;00m\n\u001b[1;32m    550\u001b[0m \u001b[38;5;28;01mif\u001b[39;00m result\u001b[38;5;241m.\u001b[39mstatus \u001b[38;5;129;01min\u001b[39;00m (\u001b[38;5;241m1\u001b[39m, \u001b[38;5;241m2\u001b[39m) \u001b[38;5;129;01mand\u001b[39;00m state\u001b[38;5;241m.\u001b[39mconstr_violation \u001b[38;5;241m>\u001b[39m gtol:\n",
      "File \u001b[0;32m/opt/conda/lib/python3.12/site-packages/scipy/optimize/_trustregion_constr/tr_interior_point.py:336\u001b[0m, in \u001b[0;36mtr_interior_point\u001b[0;34m(fun, grad, lagr_hess, n_vars, n_ineq, n_eq, constr, jac, x0, fun0, grad0, constr_ineq0, jac_ineq0, constr_eq0, jac_eq0, stop_criteria, enforce_feasibility, xtol, state, initial_barrier_parameter, initial_tolerance, initial_penalty, initial_trust_radius, factorization_method, finite_diff_bounds)\u001b[0m\n\u001b[1;32m    333\u001b[0m \u001b[38;5;66;03m# Solves a sequence of barrier problems\u001b[39;00m\n\u001b[1;32m    334\u001b[0m \u001b[38;5;28;01mwhile\u001b[39;00m \u001b[38;5;28;01mTrue\u001b[39;00m:\n\u001b[1;32m    335\u001b[0m     \u001b[38;5;66;03m# Solve SQP subproblem\u001b[39;00m\n\u001b[0;32m--> 336\u001b[0m     z, state \u001b[38;5;241m=\u001b[39m \u001b[43mequality_constrained_sqp\u001b[49m\u001b[43m(\u001b[49m\n\u001b[1;32m    337\u001b[0m \u001b[43m        \u001b[49m\u001b[43msubprob\u001b[49m\u001b[38;5;241;43m.\u001b[39;49m\u001b[43mfunction_and_constraints\u001b[49m\u001b[43m,\u001b[49m\n\u001b[1;32m    338\u001b[0m \u001b[43m        \u001b[49m\u001b[43msubprob\u001b[49m\u001b[38;5;241;43m.\u001b[39;49m\u001b[43mgradient_and_jacobian\u001b[49m\u001b[43m,\u001b[49m\n\u001b[1;32m    339\u001b[0m \u001b[43m        \u001b[49m\u001b[43msubprob\u001b[49m\u001b[38;5;241;43m.\u001b[39;49m\u001b[43mlagrangian_hessian\u001b[49m\u001b[43m,\u001b[49m\n\u001b[1;32m    340\u001b[0m \u001b[43m        \u001b[49m\u001b[43mz\u001b[49m\u001b[43m,\u001b[49m\u001b[43m \u001b[49m\u001b[43mfun0_subprob\u001b[49m\u001b[43m,\u001b[49m\u001b[43m \u001b[49m\u001b[43mgrad0_subprob\u001b[49m\u001b[43m,\u001b[49m\n\u001b[1;32m    341\u001b[0m \u001b[43m        \u001b[49m\u001b[43mconstr0_subprob\u001b[49m\u001b[43m,\u001b[49m\u001b[43m \u001b[49m\u001b[43mjac0_subprob\u001b[49m\u001b[43m,\u001b[49m\u001b[43m \u001b[49m\u001b[43msubprob\u001b[49m\u001b[38;5;241;43m.\u001b[39;49m\u001b[43mstop_criteria\u001b[49m\u001b[43m,\u001b[49m\n\u001b[1;32m    342\u001b[0m \u001b[43m        \u001b[49m\u001b[43mstate\u001b[49m\u001b[43m,\u001b[49m\u001b[43m \u001b[49m\u001b[43minitial_penalty\u001b[49m\u001b[43m,\u001b[49m\u001b[43m \u001b[49m\u001b[43mtrust_radius\u001b[49m\u001b[43m,\u001b[49m\n\u001b[1;32m    343\u001b[0m \u001b[43m        \u001b[49m\u001b[43mfactorization_method\u001b[49m\u001b[43m,\u001b[49m\u001b[43m \u001b[49m\u001b[43mtrust_lb\u001b[49m\u001b[43m,\u001b[49m\u001b[43m \u001b[49m\u001b[43mtrust_ub\u001b[49m\u001b[43m,\u001b[49m\u001b[43m \u001b[49m\u001b[43msubprob\u001b[49m\u001b[38;5;241;43m.\u001b[39;49m\u001b[43mscaling\u001b[49m\u001b[43m)\u001b[49m\n\u001b[1;32m    344\u001b[0m     \u001b[38;5;28;01mif\u001b[39;00m subprob\u001b[38;5;241m.\u001b[39mterminate:\n\u001b[1;32m    345\u001b[0m         \u001b[38;5;28;01mbreak\u001b[39;00m\n",
      "File \u001b[0;32m/opt/conda/lib/python3.12/site-packages/scipy/optimize/_trustregion_constr/equality_constrained_sqp.py:132\u001b[0m, in \u001b[0;36mequality_constrained_sqp\u001b[0;34m(fun_and_constr, grad_and_jac, lagr_hess, x0, fun0, grad0, constr0, jac0, stop_criteria, state, initial_penalty, initial_trust_radius, factorization_method, trust_lb, trust_ub, scaling)\u001b[0m\n\u001b[1;32m    130\u001b[0m lb_t \u001b[38;5;241m=\u001b[39m trust_lb \u001b[38;5;241m-\u001b[39m dn\n\u001b[1;32m    131\u001b[0m ub_t \u001b[38;5;241m=\u001b[39m trust_ub \u001b[38;5;241m-\u001b[39m dn\n\u001b[0;32m--> 132\u001b[0m dt, cg_info \u001b[38;5;241m=\u001b[39m \u001b[43mprojected_cg\u001b[49m\u001b[43m(\u001b[49m\u001b[43mH\u001b[49m\u001b[43m,\u001b[49m\u001b[43m \u001b[49m\u001b[43mc_t\u001b[49m\u001b[43m,\u001b[49m\u001b[43m \u001b[49m\u001b[43mZ\u001b[49m\u001b[43m,\u001b[49m\u001b[43m \u001b[49m\u001b[43mY\u001b[49m\u001b[43m,\u001b[49m\u001b[43m \u001b[49m\u001b[43mb_t\u001b[49m\u001b[43m,\u001b[49m\n\u001b[1;32m    133\u001b[0m \u001b[43m                           \u001b[49m\u001b[43mtrust_radius_t\u001b[49m\u001b[43m,\u001b[49m\n\u001b[1;32m    134\u001b[0m \u001b[43m                           \u001b[49m\u001b[43mlb_t\u001b[49m\u001b[43m,\u001b[49m\u001b[43m \u001b[49m\u001b[43mub_t\u001b[49m\u001b[43m)\u001b[49m\n\u001b[1;32m    136\u001b[0m \u001b[38;5;66;03m# Compute update (normal + tangential steps).\u001b[39;00m\n\u001b[1;32m    137\u001b[0m d \u001b[38;5;241m=\u001b[39m dn \u001b[38;5;241m+\u001b[39m dt\n",
      "File \u001b[0;32m/opt/conda/lib/python3.12/site-packages/scipy/optimize/_trustregion_constr/qp_subproblem.py:498\u001b[0m, in \u001b[0;36mprojected_cg\u001b[0;34m(H, c, Z, Y, b, trust_radius, lb, ub, tol, max_iter, max_infeasible_iter, return_all)\u001b[0m\n\u001b[1;32m    496\u001b[0m \u001b[38;5;66;03m# Initial Values\u001b[39;00m\n\u001b[1;32m    497\u001b[0m x \u001b[38;5;241m=\u001b[39m Y\u001b[38;5;241m.\u001b[39mdot(\u001b[38;5;241m-\u001b[39mb)\n\u001b[0;32m--> 498\u001b[0m r \u001b[38;5;241m=\u001b[39m \u001b[43mZ\u001b[49m\u001b[38;5;241;43m.\u001b[39;49m\u001b[43mdot\u001b[49m\u001b[43m(\u001b[49m\u001b[43mH\u001b[49m\u001b[38;5;241;43m.\u001b[39;49m\u001b[43mdot\u001b[49m\u001b[43m(\u001b[49m\u001b[43mx\u001b[49m\u001b[43m)\u001b[49m\u001b[43m \u001b[49m\u001b[38;5;241;43m+\u001b[39;49m\u001b[43m \u001b[49m\u001b[43mc\u001b[49m\u001b[43m)\u001b[49m\n\u001b[1;32m    499\u001b[0m g \u001b[38;5;241m=\u001b[39m Z\u001b[38;5;241m.\u001b[39mdot(r)\n\u001b[1;32m    500\u001b[0m p \u001b[38;5;241m=\u001b[39m \u001b[38;5;241m-\u001b[39mg\n",
      "File \u001b[0;32m/opt/conda/lib/python3.12/site-packages/scipy/sparse/linalg/_interface.py:466\u001b[0m, in \u001b[0;36mLinearOperator.dot\u001b[0;34m(self, x)\u001b[0m\n\u001b[1;32m    463\u001b[0m     x \u001b[38;5;241m=\u001b[39m np\u001b[38;5;241m.\u001b[39masarray(x)\n\u001b[1;32m    465\u001b[0m \u001b[38;5;28;01mif\u001b[39;00m x\u001b[38;5;241m.\u001b[39mndim \u001b[38;5;241m==\u001b[39m \u001b[38;5;241m1\u001b[39m \u001b[38;5;129;01mor\u001b[39;00m x\u001b[38;5;241m.\u001b[39mndim \u001b[38;5;241m==\u001b[39m \u001b[38;5;241m2\u001b[39m \u001b[38;5;129;01mand\u001b[39;00m x\u001b[38;5;241m.\u001b[39mshape[\u001b[38;5;241m1\u001b[39m] \u001b[38;5;241m==\u001b[39m \u001b[38;5;241m1\u001b[39m:\n\u001b[0;32m--> 466\u001b[0m     \u001b[38;5;28;01mreturn\u001b[39;00m \u001b[38;5;28;43mself\u001b[39;49m\u001b[38;5;241;43m.\u001b[39;49m\u001b[43mmatvec\u001b[49m\u001b[43m(\u001b[49m\u001b[43mx\u001b[49m\u001b[43m)\u001b[49m\n\u001b[1;32m    467\u001b[0m \u001b[38;5;28;01melif\u001b[39;00m x\u001b[38;5;241m.\u001b[39mndim \u001b[38;5;241m==\u001b[39m \u001b[38;5;241m2\u001b[39m:\n\u001b[1;32m    468\u001b[0m     \u001b[38;5;28;01mreturn\u001b[39;00m \u001b[38;5;28mself\u001b[39m\u001b[38;5;241m.\u001b[39mmatmat(x)\n",
      "File \u001b[0;32m/opt/conda/lib/python3.12/site-packages/scipy/sparse/linalg/_interface.py:258\u001b[0m, in \u001b[0;36mLinearOperator.matvec\u001b[0;34m(self, x)\u001b[0m\n\u001b[1;32m    255\u001b[0m \u001b[38;5;28;01mif\u001b[39;00m x\u001b[38;5;241m.\u001b[39mshape \u001b[38;5;241m!=\u001b[39m (N,) \u001b[38;5;129;01mand\u001b[39;00m x\u001b[38;5;241m.\u001b[39mshape \u001b[38;5;241m!=\u001b[39m (N,\u001b[38;5;241m1\u001b[39m):\n\u001b[1;32m    256\u001b[0m     \u001b[38;5;28;01mraise\u001b[39;00m \u001b[38;5;167;01mValueError\u001b[39;00m(\u001b[38;5;124m'\u001b[39m\u001b[38;5;124mdimension mismatch\u001b[39m\u001b[38;5;124m'\u001b[39m)\n\u001b[0;32m--> 258\u001b[0m y \u001b[38;5;241m=\u001b[39m \u001b[38;5;28;43mself\u001b[39;49m\u001b[38;5;241;43m.\u001b[39;49m\u001b[43m_matvec\u001b[49m\u001b[43m(\u001b[49m\u001b[43mx\u001b[49m\u001b[43m)\u001b[49m\n\u001b[1;32m    260\u001b[0m \u001b[38;5;28;01mif\u001b[39;00m \u001b[38;5;28misinstance\u001b[39m(x, np\u001b[38;5;241m.\u001b[39mmatrix):\n\u001b[1;32m    261\u001b[0m     y \u001b[38;5;241m=\u001b[39m asmatrix(y)\n",
      "File \u001b[0;32m/opt/conda/lib/python3.12/site-packages/scipy/sparse/linalg/_interface.py:613\u001b[0m, in \u001b[0;36m_CustomLinearOperator._matvec\u001b[0;34m(self, x)\u001b[0m\n\u001b[1;32m    612\u001b[0m \u001b[38;5;28;01mdef\u001b[39;00m\u001b[38;5;250m \u001b[39m\u001b[38;5;21m_matvec\u001b[39m(\u001b[38;5;28mself\u001b[39m, x):\n\u001b[0;32m--> 613\u001b[0m     \u001b[38;5;28;01mreturn\u001b[39;00m \u001b[38;5;28;43mself\u001b[39;49m\u001b[38;5;241;43m.\u001b[39;49m\u001b[43m__matvec_impl\u001b[49m\u001b[43m(\u001b[49m\u001b[43mx\u001b[49m\u001b[43m)\u001b[49m\n",
      "File \u001b[0;32m/opt/conda/lib/python3.12/site-packages/scipy/optimize/_trustregion_constr/projections.py:194\u001b[0m, in \u001b[0;36mqr_factorization_projections.<locals>.null_space\u001b[0;34m(x)\u001b[0m\n\u001b[1;32m    191\u001b[0m \u001b[38;5;28;01mdef\u001b[39;00m\u001b[38;5;250m \u001b[39m\u001b[38;5;21mnull_space\u001b[39m(x):\n\u001b[1;32m    192\u001b[0m     \u001b[38;5;66;03m# v = P inv(R) Q.T x\u001b[39;00m\n\u001b[1;32m    193\u001b[0m     aux1 \u001b[38;5;241m=\u001b[39m Q\u001b[38;5;241m.\u001b[39mT\u001b[38;5;241m.\u001b[39mdot(x)\n\u001b[0;32m--> 194\u001b[0m     aux2 \u001b[38;5;241m=\u001b[39m \u001b[43mscipy\u001b[49m\u001b[38;5;241;43m.\u001b[39;49m\u001b[43mlinalg\u001b[49m\u001b[38;5;241;43m.\u001b[39;49m\u001b[43msolve_triangular\u001b[49m\u001b[43m(\u001b[49m\u001b[43mR\u001b[49m\u001b[43m,\u001b[49m\u001b[43m \u001b[49m\u001b[43maux1\u001b[49m\u001b[43m,\u001b[49m\u001b[43m \u001b[49m\u001b[43mlower\u001b[49m\u001b[38;5;241;43m=\u001b[39;49m\u001b[38;5;28;43;01mFalse\u001b[39;49;00m\u001b[43m)\u001b[49m\n\u001b[1;32m    195\u001b[0m     v \u001b[38;5;241m=\u001b[39m np\u001b[38;5;241m.\u001b[39mzeros(m)\n\u001b[1;32m    196\u001b[0m     v[P] \u001b[38;5;241m=\u001b[39m aux2\n",
      "File \u001b[0;32m/opt/conda/lib/python3.12/site-packages/scipy/linalg/_basic.py:481\u001b[0m, in \u001b[0;36msolve_triangular\u001b[0;34m(a, b, trans, lower, unit_diagonal, overwrite_b, check_finite)\u001b[0m\n\u001b[1;32m    413\u001b[0m \u001b[38;5;250m\u001b[39m\u001b[38;5;124;03m\"\"\"\u001b[39;00m\n\u001b[1;32m    414\u001b[0m \u001b[38;5;124;03mSolve the equation ``a x = b`` for `x`, assuming a is a triangular matrix.\u001b[39;00m\n\u001b[1;32m    415\u001b[0m \n\u001b[0;32m   (...)\u001b[0m\n\u001b[1;32m    477\u001b[0m \n\u001b[1;32m    478\u001b[0m \u001b[38;5;124;03m\"\"\"\u001b[39;00m\n\u001b[1;32m    480\u001b[0m a1 \u001b[38;5;241m=\u001b[39m _asarray_validated(a, check_finite\u001b[38;5;241m=\u001b[39mcheck_finite)\n\u001b[0;32m--> 481\u001b[0m b1 \u001b[38;5;241m=\u001b[39m \u001b[43m_asarray_validated\u001b[49m\u001b[43m(\u001b[49m\u001b[43mb\u001b[49m\u001b[43m,\u001b[49m\u001b[43m \u001b[49m\u001b[43mcheck_finite\u001b[49m\u001b[38;5;241;43m=\u001b[39;49m\u001b[43mcheck_finite\u001b[49m\u001b[43m)\u001b[49m\n\u001b[1;32m    483\u001b[0m \u001b[38;5;28;01mif\u001b[39;00m \u001b[38;5;28mlen\u001b[39m(a1\u001b[38;5;241m.\u001b[39mshape) \u001b[38;5;241m!=\u001b[39m \u001b[38;5;241m2\u001b[39m \u001b[38;5;129;01mor\u001b[39;00m a1\u001b[38;5;241m.\u001b[39mshape[\u001b[38;5;241m0\u001b[39m] \u001b[38;5;241m!=\u001b[39m a1\u001b[38;5;241m.\u001b[39mshape[\u001b[38;5;241m1\u001b[39m]:\n\u001b[1;32m    484\u001b[0m     \u001b[38;5;28;01mraise\u001b[39;00m \u001b[38;5;167;01mValueError\u001b[39;00m(\u001b[38;5;124m'\u001b[39m\u001b[38;5;124mexpected square matrix\u001b[39m\u001b[38;5;124m'\u001b[39m)\n",
      "File \u001b[0;32m/opt/conda/lib/python3.12/site-packages/scipy/_lib/_util.py:537\u001b[0m, in \u001b[0;36m_asarray_validated\u001b[0;34m(a, check_finite, sparse_ok, objects_ok, mask_ok, as_inexact)\u001b[0m\n\u001b[1;32m    535\u001b[0m         \u001b[38;5;28;01mraise\u001b[39;00m \u001b[38;5;167;01mValueError\u001b[39;00m(\u001b[38;5;124m'\u001b[39m\u001b[38;5;124mmasked arrays are not supported\u001b[39m\u001b[38;5;124m'\u001b[39m)\n\u001b[1;32m    536\u001b[0m toarray \u001b[38;5;241m=\u001b[39m np\u001b[38;5;241m.\u001b[39masarray_chkfinite \u001b[38;5;28;01mif\u001b[39;00m check_finite \u001b[38;5;28;01melse\u001b[39;00m np\u001b[38;5;241m.\u001b[39masarray\n\u001b[0;32m--> 537\u001b[0m a \u001b[38;5;241m=\u001b[39m \u001b[43mtoarray\u001b[49m\u001b[43m(\u001b[49m\u001b[43ma\u001b[49m\u001b[43m)\u001b[49m\n\u001b[1;32m    538\u001b[0m \u001b[38;5;28;01mif\u001b[39;00m \u001b[38;5;129;01mnot\u001b[39;00m objects_ok:\n\u001b[1;32m    539\u001b[0m     \u001b[38;5;28;01mif\u001b[39;00m a\u001b[38;5;241m.\u001b[39mdtype \u001b[38;5;129;01mis\u001b[39;00m np\u001b[38;5;241m.\u001b[39mdtype(\u001b[38;5;124m'\u001b[39m\u001b[38;5;124mO\u001b[39m\u001b[38;5;124m'\u001b[39m):\n",
      "File \u001b[0;32m/opt/conda/lib/python3.12/site-packages/numpy/lib/_function_base_impl.py:646\u001b[0m, in \u001b[0;36masarray_chkfinite\u001b[0;34m(a, dtype, order)\u001b[0m\n\u001b[1;32m    644\u001b[0m a \u001b[38;5;241m=\u001b[39m asarray(a, dtype\u001b[38;5;241m=\u001b[39mdtype, order\u001b[38;5;241m=\u001b[39morder)\n\u001b[1;32m    645\u001b[0m \u001b[38;5;28;01mif\u001b[39;00m a\u001b[38;5;241m.\u001b[39mdtype\u001b[38;5;241m.\u001b[39mchar \u001b[38;5;129;01min\u001b[39;00m typecodes[\u001b[38;5;124m'\u001b[39m\u001b[38;5;124mAllFloat\u001b[39m\u001b[38;5;124m'\u001b[39m] \u001b[38;5;129;01mand\u001b[39;00m \u001b[38;5;129;01mnot\u001b[39;00m np\u001b[38;5;241m.\u001b[39misfinite(a)\u001b[38;5;241m.\u001b[39mall():\n\u001b[0;32m--> 646\u001b[0m     \u001b[38;5;28;01mraise\u001b[39;00m \u001b[38;5;167;01mValueError\u001b[39;00m(\n\u001b[1;32m    647\u001b[0m         \u001b[38;5;124m\"\u001b[39m\u001b[38;5;124marray must not contain infs or NaNs\u001b[39m\u001b[38;5;124m\"\u001b[39m)\n\u001b[1;32m    648\u001b[0m \u001b[38;5;28;01mreturn\u001b[39;00m a\n",
      "\u001b[0;31mValueError\u001b[0m: array must not contain infs or NaNs"
     ]
    }
   ],
   "source": [
    "%%time\n",
    "mc_rr.calibration(sampling_probabilities, calibration_matrix, calibration_target).x"
   ]
  },
  {
   "cell_type": "code",
   "execution_count": null,
   "id": "2eb01dfd-c6fe-47a3-90be-079307323280",
   "metadata": {},
   "outputs": [
    {
     "name": "stdout",
     "output_type": "stream",
     "text": [
      "CPU times: user 15h 47min 40s, sys: 50.7 s, total: 15h 48min 31s\n",
      "Wall time: 1h 18s\n"
     ]
    },
    {
     "data": {
      "text/plain": [
       "array([ 6.80730765e+03, -4.18204837e+02,  8.11482024e+02,  3.03671473e+04,\n",
       "       -1.19086009e+03, -8.77316733e+02, -3.95039542e+02, -2.52948843e+02,\n",
       "        5.90013121e+02,  1.17874564e+02, -6.78324983e+02, -1.09449555e+03,\n",
       "       -5.71132142e+02, -5.54867365e+02, -3.28391263e+02, -1.09238972e+03,\n",
       "       -8.34336356e+02, -3.19801908e+02, -2.12283057e+02,  2.22348989e+02,\n",
       "        4.00663020e+02,  1.13384786e+02, -1.14391312e+03,  5.83799009e+02,\n",
       "        3.45088480e+01, -9.12692121e+01, -5.76682186e+02, -5.90627508e+02,\n",
       "        1.97084269e+02, -4.16988728e+02, -1.97589720e+02, -6.69607271e+02,\n",
       "       -7.72179308e+02,  6.33674105e+02, -1.02778059e+03,  4.24139106e+02,\n",
       "       -5.45921697e+02, -6.70816719e+01, -5.71783600e+02, -1.58422790e+02,\n",
       "       -7.22773598e+02, -1.00638688e+03, -1.30494909e+03,  4.80863593e+03,\n",
       "       -3.10855902e+02, -2.60608328e+02, -9.58916922e+02, -2.80738477e+02,\n",
       "        1.05445288e+02, -3.62865664e+02, -3.88468826e+02, -3.20801872e+02,\n",
       "       -2.75232095e+01, -1.35485194e+03, -1.74768076e+03, -8.82159297e+02,\n",
       "       -2.01055466e+02, -2.54805029e+02, -7.87498484e+02, -2.83956433e+02,\n",
       "       -1.49367676e+03,  7.27163344e+01,  4.70104236e+03, -3.26522934e+02,\n",
       "        2.00934146e+02, -3.44451866e+02,  6.99252395e+02, -2.43753848e+02,\n",
       "        7.79227778e+02, -9.51786774e+02, -1.06728485e+03, -2.70500364e+02,\n",
       "       -4.90262826e+02, -9.26957778e+02,  1.76924481e+03,  4.92032644e+02,\n",
       "       -6.69614174e+02,  6.93138037e+02,  1.13674076e+03,  6.23817041e+01,\n",
       "        1.86804897e+03,  8.36656135e+02, -1.49420255e+03,  3.29584123e+02,\n",
       "        7.12267568e+03,  1.25842809e+02, -8.97952415e+02, -6.55573416e+01,\n",
       "       -2.25424646e+02,  6.01955497e+02, -6.02328296e+02, -1.56761128e+03,\n",
       "       -7.69270488e+02, -5.29586177e+02, -1.28010336e+03,  7.92077115e+01,\n",
       "        2.05164619e+03,  8.88071982e+02,  6.14559991e+00,  7.37822703e+02])"
      ]
     },
     "execution_count": 59,
     "metadata": {},
     "output_type": "execute_result"
    }
   ],
   "source": [
    "%%time\n",
    "mc_lt.calibration(sampling_probabilities, calibration_matrix, calibration_target).x"
   ]
  },
  {
   "cell_type": "markdown",
   "id": "297e66a4-a526-4de6-b33e-cc4158532e79",
   "metadata": {},
   "source": [
    "# Penalized Margin Calibration"
   ]
  },
  {
   "cell_type": "code",
   "execution_count": null,
   "id": "83c1af58-e449-4cb2-a868-a8e0914925bd",
   "metadata": {},
   "outputs": [],
   "source": [
    "mc_pen=MarginCalibration(penalty=.1, costs=costs)\n",
    "mc_logit_pen=MarginCalibration(\"logit\", .5, 1.5, penalty=.1, costs=costs)\n",
    "mc_rr_pen=MarginCalibration(\"raking_ratio\", penalty=.1, costs=costs)\n",
    "mc_lt_pen=MarginCalibration(\"truncated_linear\", .5, 1.5, penalty=.1, costs=costs)"
   ]
  },
  {
   "cell_type": "code",
   "execution_count": null,
   "id": "5c957e71-f3c3-4732-a1cf-8b40367f1303",
   "metadata": {},
   "outputs": [
    {
     "name": "stdout",
     "output_type": "stream",
     "text": [
      "CPU times: user 2min 25s, sys: 170 ms, total: 2min 25s\n",
      "Wall time: 1min 8s\n"
     ]
    },
    {
     "data": {
      "text/plain": [
       "array([ 8.74921073e+03,  2.35664135e+02,  7.53999287e+01,  3.29623027e+04,\n",
       "       -4.32340219e+02, -1.02892193e+03, -9.09114259e+02, -1.73700063e+02,\n",
       "        6.82001754e+02, -3.16844208e+02, -3.08586205e+03, -1.11812696e+03,\n",
       "       -1.40310306e+03, -9.75123230e+02, -9.27518944e+02, -1.73472149e+02,\n",
       "        2.34213809e+02, -9.63868221e+02, -1.16609860e+03,  2.19716554e+02,\n",
       "        3.73281171e+02,  1.40162515e+02, -2.33421815e+02,  7.61804318e+02,\n",
       "        5.16475245e+01, -3.62506694e+02, -1.42782672e+03, -1.81415169e+03,\n",
       "        2.29878837e+01, -9.52666108e+02, -2.44145381e+02, -2.19417562e+03,\n",
       "       -1.95458518e+03,  2.02399644e+02, -2.36414539e+02,  5.45398804e+02,\n",
       "       -1.99159695e+03, -6.16484693e+01,  3.92046027e+02, -1.16722482e+02,\n",
       "       -1.81819697e+03,  4.09757397e+02,  2.73863924e+02,  4.31430902e+03,\n",
       "       -1.19837397e+03, -1.16854575e+03, -1.08147611e+03, -1.23596337e+03,\n",
       "        1.99006028e+01, -3.90786992e+02, -6.82447176e+01, -1.04059340e+03,\n",
       "       -2.56733755e+02, -1.12933783e+03, -3.92878799e+01, -1.32608966e+03,\n",
       "       -1.10948751e+03, -8.57450570e+02, -1.21161099e+03, -1.34839426e+03,\n",
       "       -2.17294226e+01, -1.21753314e+02,  2.49106616e+03, -5.18270400e+02,\n",
       "        1.60738614e+02, -1.97064600e+03,  8.65129487e+02, -2.13312522e+02,\n",
       "        6.90083289e+02, -7.50778231e+01, -4.35242207e+02, -2.09806452e+01,\n",
       "       -2.83941005e+02, -2.11063056e+02,  1.68943694e+03,  4.86149045e+02,\n",
       "       -2.06788805e+03,  6.57333545e+02,  1.51904356e+03, -3.74727252e+02,\n",
       "        2.32295732e+03,  1.25999364e+03,  8.10620706e+02, -1.94381031e+01,\n",
       "        1.09946537e+04, -7.30410560e+01,  6.69984799e+02, -4.32993211e+01,\n",
       "       -3.38302854e+02,  4.49636160e+02, -1.16987098e+03, -2.95494668e+02,\n",
       "       -9.61289802e+01,  1.51296968e+02, -1.94294486e+02,  3.12993188e+02,\n",
       "        1.99353532e+03,  1.38369589e+03,  1.34296228e+00,  9.86114404e+02])"
      ]
     },
     "execution_count": 61,
     "metadata": {},
     "output_type": "execute_result"
    }
   ],
   "source": [
    "%%time\n",
    "mc_pen.calibration(sampling_probabilities, calibration_matrix, calibration_target).x"
   ]
  },
  {
   "cell_type": "code",
   "execution_count": null,
   "id": "ad4928e8-3516-4dc6-95fd-c271906e261d",
   "metadata": {},
   "outputs": [
    {
     "name": "stdout",
     "output_type": "stream",
     "text": [
      "CPU times: user 27.3 s, sys: 37.7 ms, total: 27.3 s\n",
      "Wall time: 19.1 s\n"
     ]
    },
    {
     "data": {
      "text/plain": [
       "array([ 4730.13743753,   126.3159581 ,  1694.90014335, 30366.2316765 ,\n",
       "         178.61299218,   225.00647065,   252.11591023,   198.66538876,\n",
       "         328.52641718,   406.9842149 ,   943.25909324,   238.54110517,\n",
       "         286.25653019,   286.46154002,   378.51799534,   173.96541391,\n",
       "         141.09033139,   419.92746326,   742.38071838,   296.92077387,\n",
       "         251.15104302,   296.93881718,   176.95264691,   297.55636233,\n",
       "         438.5765216 ,   228.69316591,   314.09334209,   291.053651  ,\n",
       "         340.67607427,   253.35699849,   194.40083657,   453.08769289,\n",
       "         276.50999776,   210.19925402,   184.64539791,   256.70914464,\n",
       "         334.03595586,   186.00159935,   144.55824709,   147.56897117,\n",
       "         932.15020764,   150.1464805 ,   134.71524059,  1935.76202912,\n",
       "         307.26093522,   299.15393329,   240.7412601 ,   379.3686566 ,\n",
       "         157.80958771,   185.422735  ,   159.14549008,   507.03659444,\n",
       "         479.59936621,   219.0241214 ,   159.28870286,   244.47344115,\n",
       "         493.09714104,   328.36130809,   254.79898865,  1208.89265831,\n",
       "         169.67370614,   138.98731176,  5149.46589575,   235.99927943,\n",
       "         128.83683943,   558.28798543,   379.1518174 ,   180.25532018,\n",
       "         242.8904523 ,   152.4120572 ,   173.47119275,   148.52065864,\n",
       "         173.0685319 ,   158.84715727,  1745.78571717,   209.40495021,\n",
       "         679.63681186,   229.77452225,   618.73215826,   809.11859349,\n",
       "         800.5062029 ,   340.01764634,   128.6111397 ,   554.25939996,\n",
       "        7122.55684547,   173.41525361,   135.4507591 ,   174.86988809,\n",
       "         188.62113049,  1140.78478158,   257.7036395 ,   174.15281551,\n",
       "         172.95955801,   150.81691448,   176.59938864,   134.49334591,\n",
       "        2248.42443003,   343.40722855,   130.33045838,   365.16578346])"
      ]
     },
     "execution_count": 62,
     "metadata": {},
     "output_type": "execute_result"
    }
   ],
   "source": [
    "%%time\n",
    "mc_logit_pen.calibration(sampling_probabilities, calibration_matrix, calibration_target).x"
   ]
  },
  {
   "cell_type": "code",
   "execution_count": null,
   "id": "ac0109dd-6a8f-47e9-b523-894195eec787",
   "metadata": {},
   "outputs": [
    {
     "name": "stdout",
     "output_type": "stream",
     "text": [
      "CPU times: user 4min 55s, sys: 196 ms, total: 4min 56s\n",
      "Wall time: 2min 33s\n"
     ]
    },
    {
     "data": {
      "text/plain": [
       "array([ 6.43249228e+03,  4.06414647e+03, -8.02219790e+02,  1.96648781e+04,\n",
       "       -1.18198960e+03, -5.12103302e+02,  1.14552327e+01,  4.52122393e+02,\n",
       "        1.63367934e+03,  3.34518265e+03, -6.32726897e+02, -2.11262350e+03,\n",
       "       -1.13171780e+03, -1.78065942e+03, -5.81045275e+02, -7.62337167e+02,\n",
       "        1.76488226e+03, -5.39607894e+00,  1.43082293e+01, -4.46612279e+02,\n",
       "        9.75739445e+00,  3.20289560e+01, -1.66622185e+02,  4.57258478e+02,\n",
       "        1.76485755e+03,  1.90154765e+03, -1.98937633e+02, -2.76140609e+03,\n",
       "       -1.20099617e+00,  1.70066079e+00,  1.60615652e+03, -5.60209300e+02,\n",
       "       -1.79945599e+03,  5.24713271e+02, -1.00178019e+03,  5.61842324e+02,\n",
       "       -1.20074002e+03,  2.72315075e+02, -2.46888450e+01,  6.01715865e+03,\n",
       "       -3.26568849e+03, -1.33153035e+03, -9.59846100e+02,  3.50277308e+03,\n",
       "       -6.02988966e+02,  1.82212136e+03, -1.42035104e+03, -4.20305554e+02,\n",
       "        4.03572311e+01, -3.16668079e+00,  2.25281083e+03, -7.94640347e+01,\n",
       "       -1.06624269e+03, -5.34510834e+01, -1.69388036e+03, -1.72809368e+03,\n",
       "        1.06713112e+03, -1.86547518e+00, -7.73479110e+02, -5.34536131e+03,\n",
       "       -5.77156964e+02,  5.32273663e+00, -7.50280791e+02,  1.03405341e+01,\n",
       "       -6.35313082e+02,  2.83921374e+02,  8.30365543e+02,  2.60534019e+03,\n",
       "        1.24742411e+03,  9.02910608e+02, -7.49548840e+02,  1.24247075e+03,\n",
       "       -1.24875649e+03,  1.84487249e+03, -3.79157712e+02,  2.31877552e+03,\n",
       "        6.97741173e+02,  2.54898995e+03,  5.34124095e+02, -2.28428056e+03,\n",
       "        8.42478410e+02,  1.41766748e+03, -1.07300247e+03, -9.47616708e+01,\n",
       "        6.73402475e+03,  4.31069687e+03, -2.07401970e+02,  5.58880607e+02,\n",
       "        3.13559303e+03, -3.66419083e+03,  1.12416294e+03, -2.36461772e+02,\n",
       "        1.56388257e+00,  2.30909402e+03,  2.34443217e+02,  2.31256386e+01,\n",
       "       -1.41879267e+03,  1.22247688e+03,  4.27221340e+03,  4.15314810e+02])"
      ]
     },
     "execution_count": 63,
     "metadata": {},
     "output_type": "execute_result"
    }
   ],
   "source": [
    "%%time\n",
    "mc_rr_pen.calibration(sampling_probabilities, calibration_matrix, calibration_target).x"
   ]
  },
  {
   "cell_type": "code",
   "execution_count": null,
   "id": "09a32c97-e2c7-4b58-bf51-97198cb8a377",
   "metadata": {},
   "outputs": [
    {
     "name": "stdout",
     "output_type": "stream",
     "text": [
      "CPU times: user 10.7 s, sys: 18.9 ms, total: 10.7 s\n",
      "Wall time: 5.2 s\n"
     ]
    },
    {
     "data": {
      "text/plain": [
       "array([ 4730.13743753,   126.3159581 ,  1694.90014335, 30366.2316765 ,\n",
       "         178.61299218,   225.00647065,   252.11591023,   198.66538876,\n",
       "         328.52641718,   406.9842149 ,   943.25909324,   238.54110517,\n",
       "         286.25653019,   286.46154002,   378.51799534,   173.96541391,\n",
       "         141.09033139,   419.92746326,   742.38071838,   296.92077387,\n",
       "         251.15104302,   296.93881718,   176.95264691,   297.55636233,\n",
       "         438.5765216 ,   228.69316591,   314.09334209,   291.053651  ,\n",
       "         340.67607427,   253.35699849,   194.40083657,   453.08769289,\n",
       "         276.50999776,   210.19925402,   184.64539791,   256.70914464,\n",
       "         334.03595586,   186.00159935,   144.55824709,   147.56897117,\n",
       "         932.15020764,   150.1464805 ,   134.71524059,  1935.76202912,\n",
       "         307.26093522,   299.15393329,   240.7412601 ,   379.3686566 ,\n",
       "         157.80958771,   185.422735  ,   159.14549008,   507.03659444,\n",
       "         479.59936621,   219.0241214 ,   159.28870286,   244.47344115,\n",
       "         493.09714104,   328.36130809,   254.79898865,  1208.89265831,\n",
       "         169.67370614,   138.98731176,  5149.46589575,   235.99927943,\n",
       "         128.83683943,   558.28798543,   379.1518174 ,   180.25532018,\n",
       "         242.8904523 ,   152.4120572 ,   173.47119275,   148.52065864,\n",
       "         173.0685319 ,   158.84715727,  1745.78571717,   209.40495021,\n",
       "         679.63681186,   229.77452225,   618.73215826,   809.11859349,\n",
       "         800.5062029 ,   340.01764634,   128.6111397 ,   554.25939996,\n",
       "        7122.55684547,   173.41525361,   135.4507591 ,   174.86988809,\n",
       "         188.62113049,  1140.78478158,   257.7036395 ,   174.15281551,\n",
       "         172.95955801,   150.81691448,   176.59938864,   134.49334591,\n",
       "        2248.42443003,   343.40722855,   130.33045838,   365.16578346])"
      ]
     },
     "execution_count": 64,
     "metadata": {},
     "output_type": "execute_result"
    }
   ],
   "source": [
    "%%time\n",
    "mc_lt_pen.calibration(sampling_probabilities, calibration_matrix, calibration_target).x"
   ]
  }
 ],
 "metadata": {
  "kernelspec": {
   "display_name": "Python 3 (ipykernel)",
   "language": "python",
   "name": "python3"
  },
  "language_info": {
   "codemirror_mode": {
    "name": "ipython",
    "version": 3
   },
   "file_extension": ".py",
   "mimetype": "text/x-python",
   "name": "python",
   "nbconvert_exporter": "python",
   "pygments_lexer": "ipython3",
   "version": "3.12.7"
  }
 },
 "nbformat": 4,
 "nbformat_minor": 5
}
