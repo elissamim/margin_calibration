{
 "cells": [
  {
   "cell_type": "code",
   "execution_count": 18,
   "id": "81ae476a-a2b4-49de-9bec-713c5ae1225f",
   "metadata": {},
   "outputs": [
    {
     "name": "stdout",
     "output_type": "stream",
     "text": [
      "The autoreload extension is already loaded. To reload it, use:\n",
      "  %reload_ext autoreload\n"
     ]
    }
   ],
   "source": [
    "%load_ext autoreload\n",
    "%autoreload 2"
   ]
  },
  {
   "cell_type": "code",
   "execution_count": 19,
   "id": "658eb63f-478e-40ea-a14e-a4a775db1f39",
   "metadata": {},
   "outputs": [],
   "source": [
    "import numpy as np\n",
    "import pandas as pd\n",
    "import warnings\n",
    "import sys\n",
    "\n",
    "sys.path.append(\"../src\")\n",
    "from margin_calibration import MarginCalibration"
   ]
  },
  {
   "cell_type": "code",
   "execution_count": 20,
   "id": "37a7ab76-5b1c-46d4-b848-ffeb54fb95cd",
   "metadata": {},
   "outputs": [],
   "source": [
    "warnings.simplefilter(\"ignore\")"
   ]
  },
  {
   "cell_type": "markdown",
   "id": "36484820-2066-4e6e-8ff8-a13308a24e7e",
   "metadata": {},
   "source": [
    "# Dataset Generation"
   ]
  },
  {
   "cell_type": "code",
   "execution_count": 21,
   "id": "be30f266-344a-4fd9-8547-4a13ff367928",
   "metadata": {
    "scrolled": true
   },
   "outputs": [],
   "source": [
    "# Create a 100 random observations with their respective\n",
    "# sampling weights, such that those weights sum to 20 %\n",
    "n_obs = 100\n",
    "sampling_probabilities = np.random.rand(n_obs, 1).flatten()\n",
    "sampling_probabilities = sampling_probabilities / sampling_probabilities.sum() *.2\n",
    "\n",
    "# Create a matrix of size n_obs * n_margins, with margins ranging from 0 to 1000\n",
    "n_margins = 2 # Let say we have two variables\n",
    "calibration_matrix = 1000*np.random.rand(n_obs, n_margins)\n",
    "\n",
    "# Now we create the calibration target\n",
    "# It is of sier n_margins * 1 and contains the \n",
    "# sums of the margins over all the population\n",
    "calibration_target = np.array([np.sum(calibration_matrix[:, i])*100 for i in range(calibration_matrix.shape[1])])\n",
    "\n",
    "# The costs should be of size of the number of margins\n",
    "costs = (1,1) # We give here same costs to both variables\n",
    "\n",
    "# Let say we want to work with want to work with pandas dataframes \n",
    "# instead of numpy arrays\n",
    "sampling_probabilities = pd.DataFrame(sampling_probabilities, columns=[\"weights\"])\n",
    "calibration_matrix = pd.DataFrame(calibration_matrix, columns = [\"margin1\", \"margin2\"])\n",
    "calibration_target = pd.DataFrame(calibration_target, columns = [\"margin_sums\"])"
   ]
  },
  {
   "cell_type": "markdown",
   "id": "321ae34d-59df-4f2f-b69a-8c4d0746f118",
   "metadata": {},
   "source": [
    "# Margin Calibration"
   ]
  },
  {
   "cell_type": "code",
   "execution_count": 25,
   "id": "2ac6f8e5-e1ab-473a-af88-be7e4592ca50",
   "metadata": {},
   "outputs": [],
   "source": [
    "mc=MarginCalibration()\n",
    "mc_logit=MarginCalibration(\"logit\", .5, 1.5)\n",
    "mc_rr=MarginCalibration(\"raking_ratio\")\n",
    "mc_lt=MarginCalibration(\"truncated_linear\", .5, 1.5)"
   ]
  },
  {
   "cell_type": "code",
   "execution_count": 26,
   "id": "e330d364-cdb0-4429-83da-3dad9875e3a3",
   "metadata": {},
   "outputs": [
    {
     "name": "stdout",
     "output_type": "stream",
     "text": [
      "CPU times: user 1.47 s, sys: 3.97 ms, total: 1.48 s\n",
      "Wall time: 215 ms\n"
     ]
    },
    {
     "data": {
      "text/plain": [
       "array([ 1.67086947e+01,  1.64024815e+02, -2.52622525e+01, -5.83901067e+01,\n",
       "        3.89124251e+02,  2.44589520e+02,  1.37574082e+02,  8.30270041e+01,\n",
       "       -4.83796542e+01,  1.45499583e+02,  2.03174374e+02,  4.50543955e+01,\n",
       "       -2.20202656e+01,  3.89630268e+01,  1.67995810e+02, -1.47393635e+02,\n",
       "        1.61091967e+02,  6.37571045e+01, -7.12642837e+01,  1.80073166e+02,\n",
       "        1.83518092e+02,  6.19842575e+01,  4.91294508e+02, -1.53315769e+02,\n",
       "        7.10325476e+02,  3.72439927e+02, -1.95718669e+02,  2.18944721e+02,\n",
       "        1.36901960e+02,  1.43345609e+01,  4.71497303e+02,  2.22948429e+02,\n",
       "       -1.25969393e+01,  3.25784495e+02,  1.45432322e+02,  1.55730172e+02,\n",
       "        1.04292275e+02,  2.40935344e+02,  1.81854748e+03,  2.33246481e+03,\n",
       "       -4.28008959e+01,  2.12917842e+02,  1.14965775e+02,  2.09195693e+02,\n",
       "        7.59662237e+01, -6.93071999e+01,  6.14979989e+02, -1.48306780e+02,\n",
       "        3.07016568e+01,  5.47246796e+01, -8.69409871e+02,  1.44535797e+02,\n",
       "        1.43634251e+02,  3.73084528e+02,  8.96895723e+02,  1.00007878e+02,\n",
       "        2.60892074e+02,  1.95955262e+02, -5.61405224e+01, -2.83540180e+02,\n",
       "        1.04874964e+02,  2.63262417e+01,  6.21810065e+02,  2.10275602e+02,\n",
       "        2.29020510e+02, -1.07295850e+01,  1.99687716e+02, -3.50812977e+01,\n",
       "        3.45899984e+01,  8.64867173e+00,  1.24732675e+03,  2.30942436e+02,\n",
       "        4.58860373e+01,  1.91051166e+02,  1.38505045e+00, -3.91195757e+01,\n",
       "        7.54702271e+01,  1.59698425e+02,  6.21798774e+01, -3.05448183e+02,\n",
       "        2.76297570e+02, -2.68945054e+01,  3.61603203e+01,  1.74005296e+02,\n",
       "        2.98427880e+01,  2.21806358e+02,  5.22727467e+01, -1.44448818e+01,\n",
       "        1.97747021e+02,  3.23397527e+03, -5.65711951e+02, -6.10391010e+02,\n",
       "        1.15464908e+03,  8.88097677e+01,  3.04430135e+02,  1.25186735e+02,\n",
       "        2.12914785e+02, -5.46702268e+02,  2.36803984e+03,  5.65794003e+02])"
      ]
     },
     "execution_count": 26,
     "metadata": {},
     "output_type": "execute_result"
    }
   ],
   "source": [
    "%%time\n",
    "mc.calibration(sampling_probabilities, calibration_matrix, calibration_target).x"
   ]
  },
  {
   "cell_type": "code",
   "execution_count": null,
   "id": "6502184e-961c-4e37-bf6a-bebf208c3f66",
   "metadata": {},
   "outputs": [],
   "source": [
    "%%time\n",
    "mc_logit.calibration(sampling_probabilities, calibration_matrix, calibration_target).x"
   ]
  },
  {
   "cell_type": "code",
   "execution_count": null,
   "id": "f74f1db7-6153-4669-8e4e-40eb7166865f",
   "metadata": {},
   "outputs": [],
   "source": [
    "%%time\n",
    "mc_rr.calibration(sampling_probabilities, calibration_matrix, calibration_target).x"
   ]
  },
  {
   "cell_type": "code",
   "execution_count": null,
   "id": "2eb01dfd-c6fe-47a3-90be-079307323280",
   "metadata": {},
   "outputs": [],
   "source": [
    "%%time\n",
    "mc_lt.calibration(sampling_probabilities, calibration_matrix, calibration_target).x"
   ]
  },
  {
   "cell_type": "markdown",
   "id": "297e66a4-a526-4de6-b33e-cc4158532e79",
   "metadata": {},
   "source": [
    "# Penalized Margin Calibration"
   ]
  },
  {
   "cell_type": "code",
   "execution_count": null,
   "id": "83c1af58-e449-4cb2-a868-a8e0914925bd",
   "metadata": {},
   "outputs": [],
   "source": [
    "mc_pen=MarginCalibration(penalty=.1, costs=costs)\n",
    "mc_logit_pen=MarginCalibration(\"logit\", .5, 1.5, penalty=.1, costs=costs)\n",
    "mc_rr_pen=MarginCalibration(\"raking_ratio\", penalty=.1, costs=costs)\n",
    "mc_lt_pen=MarginCalibration(\"truncated_linear\", .5, 1.5, penalty=.1, costs=costs)"
   ]
  },
  {
   "cell_type": "code",
   "execution_count": null,
   "id": "5c957e71-f3c3-4732-a1cf-8b40367f1303",
   "metadata": {},
   "outputs": [
    {
     "name": "stdout",
     "output_type": "stream",
     "text": [
      "CPU times: user 2min 25s, sys: 170 ms, total: 2min 25s\n",
      "Wall time: 1min 8s\n"
     ]
    },
    {
     "data": {
      "text/plain": [
       "array([ 8.74921073e+03,  2.35664135e+02,  7.53999287e+01,  3.29623027e+04,\n",
       "       -4.32340219e+02, -1.02892193e+03, -9.09114259e+02, -1.73700063e+02,\n",
       "        6.82001754e+02, -3.16844208e+02, -3.08586205e+03, -1.11812696e+03,\n",
       "       -1.40310306e+03, -9.75123230e+02, -9.27518944e+02, -1.73472149e+02,\n",
       "        2.34213809e+02, -9.63868221e+02, -1.16609860e+03,  2.19716554e+02,\n",
       "        3.73281171e+02,  1.40162515e+02, -2.33421815e+02,  7.61804318e+02,\n",
       "        5.16475245e+01, -3.62506694e+02, -1.42782672e+03, -1.81415169e+03,\n",
       "        2.29878837e+01, -9.52666108e+02, -2.44145381e+02, -2.19417562e+03,\n",
       "       -1.95458518e+03,  2.02399644e+02, -2.36414539e+02,  5.45398804e+02,\n",
       "       -1.99159695e+03, -6.16484693e+01,  3.92046027e+02, -1.16722482e+02,\n",
       "       -1.81819697e+03,  4.09757397e+02,  2.73863924e+02,  4.31430902e+03,\n",
       "       -1.19837397e+03, -1.16854575e+03, -1.08147611e+03, -1.23596337e+03,\n",
       "        1.99006028e+01, -3.90786992e+02, -6.82447176e+01, -1.04059340e+03,\n",
       "       -2.56733755e+02, -1.12933783e+03, -3.92878799e+01, -1.32608966e+03,\n",
       "       -1.10948751e+03, -8.57450570e+02, -1.21161099e+03, -1.34839426e+03,\n",
       "       -2.17294226e+01, -1.21753314e+02,  2.49106616e+03, -5.18270400e+02,\n",
       "        1.60738614e+02, -1.97064600e+03,  8.65129487e+02, -2.13312522e+02,\n",
       "        6.90083289e+02, -7.50778231e+01, -4.35242207e+02, -2.09806452e+01,\n",
       "       -2.83941005e+02, -2.11063056e+02,  1.68943694e+03,  4.86149045e+02,\n",
       "       -2.06788805e+03,  6.57333545e+02,  1.51904356e+03, -3.74727252e+02,\n",
       "        2.32295732e+03,  1.25999364e+03,  8.10620706e+02, -1.94381031e+01,\n",
       "        1.09946537e+04, -7.30410560e+01,  6.69984799e+02, -4.32993211e+01,\n",
       "       -3.38302854e+02,  4.49636160e+02, -1.16987098e+03, -2.95494668e+02,\n",
       "       -9.61289802e+01,  1.51296968e+02, -1.94294486e+02,  3.12993188e+02,\n",
       "        1.99353532e+03,  1.38369589e+03,  1.34296228e+00,  9.86114404e+02])"
      ]
     },
     "execution_count": 61,
     "metadata": {},
     "output_type": "execute_result"
    }
   ],
   "source": [
    "%%time\n",
    "mc_pen.calibration(sampling_probabilities, calibration_matrix, calibration_target).x"
   ]
  },
  {
   "cell_type": "code",
   "execution_count": null,
   "id": "ad4928e8-3516-4dc6-95fd-c271906e261d",
   "metadata": {},
   "outputs": [
    {
     "name": "stdout",
     "output_type": "stream",
     "text": [
      "CPU times: user 27.3 s, sys: 37.7 ms, total: 27.3 s\n",
      "Wall time: 19.1 s\n"
     ]
    },
    {
     "data": {
      "text/plain": [
       "array([ 4730.13743753,   126.3159581 ,  1694.90014335, 30366.2316765 ,\n",
       "         178.61299218,   225.00647065,   252.11591023,   198.66538876,\n",
       "         328.52641718,   406.9842149 ,   943.25909324,   238.54110517,\n",
       "         286.25653019,   286.46154002,   378.51799534,   173.96541391,\n",
       "         141.09033139,   419.92746326,   742.38071838,   296.92077387,\n",
       "         251.15104302,   296.93881718,   176.95264691,   297.55636233,\n",
       "         438.5765216 ,   228.69316591,   314.09334209,   291.053651  ,\n",
       "         340.67607427,   253.35699849,   194.40083657,   453.08769289,\n",
       "         276.50999776,   210.19925402,   184.64539791,   256.70914464,\n",
       "         334.03595586,   186.00159935,   144.55824709,   147.56897117,\n",
       "         932.15020764,   150.1464805 ,   134.71524059,  1935.76202912,\n",
       "         307.26093522,   299.15393329,   240.7412601 ,   379.3686566 ,\n",
       "         157.80958771,   185.422735  ,   159.14549008,   507.03659444,\n",
       "         479.59936621,   219.0241214 ,   159.28870286,   244.47344115,\n",
       "         493.09714104,   328.36130809,   254.79898865,  1208.89265831,\n",
       "         169.67370614,   138.98731176,  5149.46589575,   235.99927943,\n",
       "         128.83683943,   558.28798543,   379.1518174 ,   180.25532018,\n",
       "         242.8904523 ,   152.4120572 ,   173.47119275,   148.52065864,\n",
       "         173.0685319 ,   158.84715727,  1745.78571717,   209.40495021,\n",
       "         679.63681186,   229.77452225,   618.73215826,   809.11859349,\n",
       "         800.5062029 ,   340.01764634,   128.6111397 ,   554.25939996,\n",
       "        7122.55684547,   173.41525361,   135.4507591 ,   174.86988809,\n",
       "         188.62113049,  1140.78478158,   257.7036395 ,   174.15281551,\n",
       "         172.95955801,   150.81691448,   176.59938864,   134.49334591,\n",
       "        2248.42443003,   343.40722855,   130.33045838,   365.16578346])"
      ]
     },
     "execution_count": 62,
     "metadata": {},
     "output_type": "execute_result"
    }
   ],
   "source": [
    "%%time\n",
    "mc_logit_pen.calibration(sampling_probabilities, calibration_matrix, calibration_target).x"
   ]
  },
  {
   "cell_type": "code",
   "execution_count": null,
   "id": "ac0109dd-6a8f-47e9-b523-894195eec787",
   "metadata": {},
   "outputs": [
    {
     "name": "stdout",
     "output_type": "stream",
     "text": [
      "CPU times: user 4min 55s, sys: 196 ms, total: 4min 56s\n",
      "Wall time: 2min 33s\n"
     ]
    },
    {
     "data": {
      "text/plain": [
       "array([ 6.43249228e+03,  4.06414647e+03, -8.02219790e+02,  1.96648781e+04,\n",
       "       -1.18198960e+03, -5.12103302e+02,  1.14552327e+01,  4.52122393e+02,\n",
       "        1.63367934e+03,  3.34518265e+03, -6.32726897e+02, -2.11262350e+03,\n",
       "       -1.13171780e+03, -1.78065942e+03, -5.81045275e+02, -7.62337167e+02,\n",
       "        1.76488226e+03, -5.39607894e+00,  1.43082293e+01, -4.46612279e+02,\n",
       "        9.75739445e+00,  3.20289560e+01, -1.66622185e+02,  4.57258478e+02,\n",
       "        1.76485755e+03,  1.90154765e+03, -1.98937633e+02, -2.76140609e+03,\n",
       "       -1.20099617e+00,  1.70066079e+00,  1.60615652e+03, -5.60209300e+02,\n",
       "       -1.79945599e+03,  5.24713271e+02, -1.00178019e+03,  5.61842324e+02,\n",
       "       -1.20074002e+03,  2.72315075e+02, -2.46888450e+01,  6.01715865e+03,\n",
       "       -3.26568849e+03, -1.33153035e+03, -9.59846100e+02,  3.50277308e+03,\n",
       "       -6.02988966e+02,  1.82212136e+03, -1.42035104e+03, -4.20305554e+02,\n",
       "        4.03572311e+01, -3.16668079e+00,  2.25281083e+03, -7.94640347e+01,\n",
       "       -1.06624269e+03, -5.34510834e+01, -1.69388036e+03, -1.72809368e+03,\n",
       "        1.06713112e+03, -1.86547518e+00, -7.73479110e+02, -5.34536131e+03,\n",
       "       -5.77156964e+02,  5.32273663e+00, -7.50280791e+02,  1.03405341e+01,\n",
       "       -6.35313082e+02,  2.83921374e+02,  8.30365543e+02,  2.60534019e+03,\n",
       "        1.24742411e+03,  9.02910608e+02, -7.49548840e+02,  1.24247075e+03,\n",
       "       -1.24875649e+03,  1.84487249e+03, -3.79157712e+02,  2.31877552e+03,\n",
       "        6.97741173e+02,  2.54898995e+03,  5.34124095e+02, -2.28428056e+03,\n",
       "        8.42478410e+02,  1.41766748e+03, -1.07300247e+03, -9.47616708e+01,\n",
       "        6.73402475e+03,  4.31069687e+03, -2.07401970e+02,  5.58880607e+02,\n",
       "        3.13559303e+03, -3.66419083e+03,  1.12416294e+03, -2.36461772e+02,\n",
       "        1.56388257e+00,  2.30909402e+03,  2.34443217e+02,  2.31256386e+01,\n",
       "       -1.41879267e+03,  1.22247688e+03,  4.27221340e+03,  4.15314810e+02])"
      ]
     },
     "execution_count": 63,
     "metadata": {},
     "output_type": "execute_result"
    }
   ],
   "source": [
    "%%time\n",
    "mc_rr_pen.calibration(sampling_probabilities, calibration_matrix, calibration_target).x"
   ]
  },
  {
   "cell_type": "code",
   "execution_count": null,
   "id": "09a32c97-e2c7-4b58-bf51-97198cb8a377",
   "metadata": {},
   "outputs": [
    {
     "name": "stdout",
     "output_type": "stream",
     "text": [
      "CPU times: user 10.7 s, sys: 18.9 ms, total: 10.7 s\n",
      "Wall time: 5.2 s\n"
     ]
    },
    {
     "data": {
      "text/plain": [
       "array([ 4730.13743753,   126.3159581 ,  1694.90014335, 30366.2316765 ,\n",
       "         178.61299218,   225.00647065,   252.11591023,   198.66538876,\n",
       "         328.52641718,   406.9842149 ,   943.25909324,   238.54110517,\n",
       "         286.25653019,   286.46154002,   378.51799534,   173.96541391,\n",
       "         141.09033139,   419.92746326,   742.38071838,   296.92077387,\n",
       "         251.15104302,   296.93881718,   176.95264691,   297.55636233,\n",
       "         438.5765216 ,   228.69316591,   314.09334209,   291.053651  ,\n",
       "         340.67607427,   253.35699849,   194.40083657,   453.08769289,\n",
       "         276.50999776,   210.19925402,   184.64539791,   256.70914464,\n",
       "         334.03595586,   186.00159935,   144.55824709,   147.56897117,\n",
       "         932.15020764,   150.1464805 ,   134.71524059,  1935.76202912,\n",
       "         307.26093522,   299.15393329,   240.7412601 ,   379.3686566 ,\n",
       "         157.80958771,   185.422735  ,   159.14549008,   507.03659444,\n",
       "         479.59936621,   219.0241214 ,   159.28870286,   244.47344115,\n",
       "         493.09714104,   328.36130809,   254.79898865,  1208.89265831,\n",
       "         169.67370614,   138.98731176,  5149.46589575,   235.99927943,\n",
       "         128.83683943,   558.28798543,   379.1518174 ,   180.25532018,\n",
       "         242.8904523 ,   152.4120572 ,   173.47119275,   148.52065864,\n",
       "         173.0685319 ,   158.84715727,  1745.78571717,   209.40495021,\n",
       "         679.63681186,   229.77452225,   618.73215826,   809.11859349,\n",
       "         800.5062029 ,   340.01764634,   128.6111397 ,   554.25939996,\n",
       "        7122.55684547,   173.41525361,   135.4507591 ,   174.86988809,\n",
       "         188.62113049,  1140.78478158,   257.7036395 ,   174.15281551,\n",
       "         172.95955801,   150.81691448,   176.59938864,   134.49334591,\n",
       "        2248.42443003,   343.40722855,   130.33045838,   365.16578346])"
      ]
     },
     "execution_count": 64,
     "metadata": {},
     "output_type": "execute_result"
    }
   ],
   "source": [
    "%%time\n",
    "mc_lt_pen.calibration(sampling_probabilities, calibration_matrix, calibration_target).x"
   ]
  }
 ],
 "metadata": {
  "kernelspec": {
   "display_name": "Python 3 (ipykernel)",
   "language": "python",
   "name": "python3"
  },
  "language_info": {
   "codemirror_mode": {
    "name": "ipython",
    "version": 3
   },
   "file_extension": ".py",
   "mimetype": "text/x-python",
   "name": "python",
   "nbconvert_exporter": "python",
   "pygments_lexer": "ipython3",
   "version": "3.12.7"
  }
 },
 "nbformat": 4,
 "nbformat_minor": 5
}
