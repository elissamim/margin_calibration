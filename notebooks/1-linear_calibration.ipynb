{
 "cells": [
  {
   "cell_type": "code",
   "execution_count": 4,
   "id": "8801aaf0-43e0-4dc5-bbbe-8522528529cd",
   "metadata": {
    "scrolled": true
   },
   "outputs": [],
   "source": [
    "import numpy as np\n",
    "from scipy.optimize import minimize\n",
    "\n",
    "W_i = np.array([1/100, 1/100, 1/100, 1/100])\n",
    "D = np.array([1/w_i for w_i in W_i])\n",
    "x0 = D\n",
    "A = np.array([[1000, 2584],\n",
    "            [0, 4],\n",
    "            [25, 354],\n",
    "            [102, 878]])\n",
    "B = np.array([100000, 450002])\n",
    "\n",
    "def linear_method(w, d):\n",
    "    return ((w/d-1)**2)\n",
    "\n",
    "def ranking_ratio_method(w, d):\n",
    "    return (w/d)*np.log(w/d)-(w/d)+1\n",
    "\n",
    "# def objective(W):\n",
    "#     return (1/2)*sum(\n",
    "#         d_k*linear_method(w_k, d_k) for w_k, d_k in zip(W, D)\n",
    "#     )\n",
    "\n",
    "def objective(W):\n",
    "    return sum(\n",
    "        d_k*ranking_ratio_method(w_k, d_k) for w_k, d_k in zip(W, D)\n",
    "    )\n",
    "\n",
    "def constraint(W):\n",
    "    return A.T@W-B\n",
    "\n",
    "constraints = {\"type\" : \"eq\", \"fun\" : constraint}\n",
    "\n",
    "result = minimize(objective, \n",
    "                  x0=x0, \n",
    "                  method=\"trust-constr\", \n",
    "                  constraints=constraints)"
   ]
  },
  {
   "cell_type": "code",
   "execution_count": 32,
   "id": "91952808-9cb4-44c2-af72-b80086a10b08",
   "metadata": {},
   "outputs": [],
   "source": [
    "class MarginCalibration:\n",
    "\n",
    "    def __init__(self,\n",
    "                sampling_probabilities,\n",
    "                calibration_matrix,\n",
    "                calibration_target,\n",
    "                calibration_method):\n",
    "        \n",
    "        self.sampling_probabilities = sampling_probabilities\n",
    "        self.calibration_matrix = calibration_matrix\n",
    "        self.calibration_target = calibration_target\n",
    "        self.calibration_method = calibration_method\n",
    "\n",
    "    def initialize_sampling_weights(self):\n",
    "        return np.array([\n",
    "            1/prob_i \n",
    "            for prob_i in self.sampling_probabilities\n",
    "        ])\n",
    "\n",
    "    def _linear_method(self, w, d):\n",
    "        return ((w/d-1)**2)\n",
    "\n",
    "    def _ranking_ratio_method(self, w, d):\n",
    "        return (w/d)*np.log(w/d)-(w/d)+1\n",
    "     \n",
    "    def initialize_method(self):\n",
    "        \n",
    "        dict_method = {\n",
    "            \"linear\":self._linear_method,\n",
    "            \"ranking_ratio\":self._ranking_ratio_method,\n",
    "            \"truncated_linear\":self._linear_method\n",
    "        }\n",
    "        try:\n",
    "            return dict_method[self.calibration_method]\n",
    "\n",
    "        except:\n",
    "            raise ValueError(f\"Invalid value : {self.calibration_method}. Must be one of : 'linear', 'ranking_ratio', 'truncated_linear'\")\n",
    "\n",
    "    def objective(self, calibration_weights):\n",
    "        \n",
    "        sampling_weights = self.initialize_sampling_weights()\n",
    "        \n",
    "        return sum(\n",
    "            d_k*self.initialize_method()(w_k, d_k) \n",
    "            for w_k, d_k in zip(calibration_weights, \n",
    "                                sampling_weights)\n",
    "        )\n",
    "\n",
    "    def constraint(self, calibration_weights):\n",
    "        return self.calibration_matrix.T@calibration_weights-self.calibration_target\n",
    "\n",
    "    def calibration(self,\n",
    "                   lower_bound=None,\n",
    "                   upper_bound=None):\n",
    "        \n",
    "        constraints = {\"type\":\"eq\", \"fun\":self.constraint}\n",
    "        \n",
    "        x0 = self.initialize_sampling_weights()\n",
    "\n",
    "        if self.calibration_method == \"truncated_linear\":\n",
    "            if isinstance(lower_bound, (int, float)) and isinstance(upper_bound, (int, float)):\n",
    "                if (lower_bound < 1) and (upper_bound > 1):\n",
    "                    sampling_weights = self.initialize_sampling_weights()\n",
    "                    bounds = [(lower_bound*d_k,\n",
    "                              upper_bound*d_k) \n",
    "                              for d_k in sampling_weights]\n",
    "                else:\n",
    "                    raise ValueError(\"The lower bound should be strictly inferior to 1, the upper bound strictly superior to 1\")\n",
    "            else:\n",
    "                raise TypeError(\"'lower_bound' and 'upper_bound' must be numeric values\")\n",
    "        else:\n",
    "            bounds=None\n",
    "        \n",
    "        return minimize(\n",
    "            self.objective,\n",
    "            x0=x0,\n",
    "            method = \"trust-constr\",\n",
    "            constraints = constraints,\n",
    "            bounds=bounds\n",
    "        )    "
   ]
  },
  {
   "cell_type": "code",
   "execution_count": 33,
   "id": "7dda5631-64f7-4748-9d6c-de0cc241f72a",
   "metadata": {
    "scrolled": true
   },
   "outputs": [
    {
     "data": {
      "text/plain": [
       "array([ 72.03355474, 100.89117545, 163.77747608, 234.03929763])"
      ]
     },
     "execution_count": 33,
     "metadata": {},
     "output_type": "execute_result"
    }
   ],
   "source": [
    "W_i = np.array([1/100, 1/100, 1/100, 1/100])\n",
    "D = np.array([1/w_i for w_i in W_i])\n",
    "x0 = D\n",
    "A = np.array([[1000, 2584],\n",
    "            [0, 4],\n",
    "            [25, 354],\n",
    "            [102, 878]])\n",
    "B = np.array([100000, 450002])\n",
    "\n",
    "MarginCalibration(W_i, A, B, \"linear\").calibration().x"
   ]
  },
  {
   "cell_type": "code",
   "execution_count": 38,
   "id": "893c5d4a-dc1c-41f7-bb79-eabab593e1a6",
   "metadata": {},
   "outputs": [
    {
     "data": {
      "text/plain": [
       "array([ 71.7634369 , 100.59251627, 152.06344919, 239.55859679])"
      ]
     },
     "execution_count": 38,
     "metadata": {},
     "output_type": "execute_result"
    }
   ],
   "source": [
    "MarginCalibration(W_i, A, B, \"ranking_ratio\").calibration().x"
   ]
  },
  {
   "cell_type": "code",
   "execution_count": 40,
   "id": "024f2b29-0eaa-479c-94d9-73ab4c427c13",
   "metadata": {},
   "outputs": [
    {
     "data": {
      "text/plain": [
       "array([ 72.63096179, 155.25181912, 188.11562062, 222.22043154])"
      ]
     },
     "execution_count": 40,
     "metadata": {},
     "output_type": "execute_result"
    }
   ],
   "source": [
    "MarginCalibration(W_i, A, B, \"truncated_linear\").calibration(lower_bound=0.9, upper_bound=1.5).x"
   ]
  }
 ],
 "metadata": {
  "kernelspec": {
   "display_name": "Python 3 (ipykernel)",
   "language": "python",
   "name": "python3"
  },
  "language_info": {
   "codemirror_mode": {
    "name": "ipython",
    "version": 3
   },
   "file_extension": ".py",
   "mimetype": "text/x-python",
   "name": "python",
   "nbconvert_exporter": "python",
   "pygments_lexer": "ipython3",
   "version": "3.12.7"
  }
 },
 "nbformat": 4,
 "nbformat_minor": 5
}
