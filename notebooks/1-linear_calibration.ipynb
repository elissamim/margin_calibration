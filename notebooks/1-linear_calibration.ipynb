{
 "cells": [
  {
   "cell_type": "code",
   "execution_count": 6,
   "id": "4c2c4704-87a4-4a27-9f60-7e997d1b87e1",
   "metadata": {},
   "outputs": [],
   "source": [
    "from scipy.optimize import minimize\n",
    "import pandas as pd\n",
    "import numpy as np"
   ]
  },
  {
   "cell_type": "code",
   "execution_count": 32,
   "id": "8801aaf0-43e0-4dc5-bbbe-8522528529cd",
   "metadata": {},
   "outputs": [
    {
     "ename": "ValueError",
     "evalue": "'x0' must only have one dimension.",
     "output_type": "error",
     "traceback": [
      "\u001b[0;31m---------------------------------------------------------------------------\u001b[0m",
      "\u001b[0;31mValueError\u001b[0m                                Traceback (most recent call last)",
      "Cell \u001b[0;32mIn[32], line 21\u001b[0m\n\u001b[1;32m     17\u001b[0m     \u001b[38;5;28;01mreturn\u001b[39;00m A\u001b[38;5;129m@W\u001b[39m\u001b[38;5;241m-\u001b[39mB\n\u001b[1;32m     19\u001b[0m constraints \u001b[38;5;241m=\u001b[39m {\u001b[38;5;124m\"\u001b[39m\u001b[38;5;124mtype\u001b[39m\u001b[38;5;124m\"\u001b[39m : \u001b[38;5;124m\"\u001b[39m\u001b[38;5;124meq\u001b[39m\u001b[38;5;124m\"\u001b[39m, \u001b[38;5;124m\"\u001b[39m\u001b[38;5;124mfun\u001b[39m\u001b[38;5;124m\"\u001b[39m : constraint}\n\u001b[0;32m---> 21\u001b[0m result \u001b[38;5;241m=\u001b[39m \u001b[43mminimize\u001b[49m\u001b[43m(\u001b[49m\u001b[43mobjective\u001b[49m\u001b[43m,\u001b[49m\u001b[43m \u001b[49m\n\u001b[1;32m     22\u001b[0m \u001b[43m                  \u001b[49m\u001b[43mx0\u001b[49m\u001b[38;5;241;43m=\u001b[39;49m\u001b[43mD\u001b[49m\u001b[43m,\u001b[49m\u001b[43m \u001b[49m\n\u001b[1;32m     23\u001b[0m \u001b[43m                  \u001b[49m\u001b[43mmethod\u001b[49m\u001b[38;5;241;43m=\u001b[39;49m\u001b[38;5;124;43m\"\u001b[39;49m\u001b[38;5;124;43mSLSQP\u001b[39;49m\u001b[38;5;124;43m\"\u001b[39;49m\u001b[43m,\u001b[49m\u001b[43m \u001b[49m\n\u001b[1;32m     24\u001b[0m \u001b[43m                  \u001b[49m\u001b[43mconstraints\u001b[49m\u001b[38;5;241;43m=\u001b[39;49m\u001b[43mconstraints\u001b[49m\u001b[43m)\u001b[49m\n",
      "File \u001b[0;32m/opt/conda/lib/python3.12/site-packages/scipy/optimize/_minimize.py:557\u001b[0m, in \u001b[0;36mminimize\u001b[0;34m(fun, x0, args, method, jac, hess, hessp, bounds, constraints, tol, callback, options)\u001b[0m\n\u001b[1;32m    554\u001b[0m x0 \u001b[38;5;241m=\u001b[39m np\u001b[38;5;241m.\u001b[39matleast_1d(np\u001b[38;5;241m.\u001b[39masarray(x0))\n\u001b[1;32m    556\u001b[0m \u001b[38;5;28;01mif\u001b[39;00m x0\u001b[38;5;241m.\u001b[39mndim \u001b[38;5;241m!=\u001b[39m \u001b[38;5;241m1\u001b[39m:\n\u001b[0;32m--> 557\u001b[0m     \u001b[38;5;28;01mraise\u001b[39;00m \u001b[38;5;167;01mValueError\u001b[39;00m(\u001b[38;5;124m\"\u001b[39m\u001b[38;5;124m'\u001b[39m\u001b[38;5;124mx0\u001b[39m\u001b[38;5;124m'\u001b[39m\u001b[38;5;124m must only have one dimension.\u001b[39m\u001b[38;5;124m\"\u001b[39m)\n\u001b[1;32m    559\u001b[0m \u001b[38;5;28;01mif\u001b[39;00m x0\u001b[38;5;241m.\u001b[39mdtype\u001b[38;5;241m.\u001b[39mkind \u001b[38;5;129;01min\u001b[39;00m np\u001b[38;5;241m.\u001b[39mtypecodes[\u001b[38;5;124m\"\u001b[39m\u001b[38;5;124mAllInteger\u001b[39m\u001b[38;5;124m\"\u001b[39m]:\n\u001b[1;32m    560\u001b[0m     x0 \u001b[38;5;241m=\u001b[39m np\u001b[38;5;241m.\u001b[39masarray(x0, dtype\u001b[38;5;241m=\u001b[39m\u001b[38;5;28mfloat\u001b[39m)\n",
      "\u001b[0;31mValueError\u001b[0m: 'x0' must only have one dimension."
     ]
    }
   ],
   "source": [
    "D = np.array([1, 1, 1, 1])\n",
    "A = np.array([[1000, 258412],\n",
    "            [0, 4],\n",
    "            [25694, 35471],\n",
    "            [10256, 878787]])\n",
    "B = np.array([10000000000000000000000, 450002200001])\n",
    "\n",
    "def f(w,d):\n",
    "    return ((w/d-1)**2)\n",
    "\n",
    "def objective(W):\n",
    "    return (1/2)*sum(\n",
    "        d_k*f(w_k, d_k) for w_k, d_k in zip(W, D)\n",
    "    )\n",
    "\n",
    "def constraint(W):\n",
    "    return A@W-B\n",
    "\n",
    "constraints = {\"type\" : \"eq\", \"fun\" : constraint}\n",
    "\n",
    "result = minimize(objective, \n",
    "                  x0=D, \n",
    "                  method=\"SLSQP\", \n",
    "                  constraints=constraints)"
   ]
  },
  {
   "cell_type": "code",
   "execution_count": 30,
   "id": "4f1e1aec-16c7-4708-8551-b7d0842e5886",
   "metadata": {},
   "outputs": [
    {
     "data": {
      "text/plain": [
       "  message: Optimization terminated successfully.\n",
       "  success: True\n",
       "   status: 0\n",
       "      fun: 0.0\n",
       "        x: [ 1.000e+00  1.000e+00  1.000e+00  1.000e+00]\n",
       "      nit: 0\n",
       "      jac: [ 7.451e-09  7.451e-09  7.451e-09  7.451e-09]\n",
       " hess_inv: [[1 0 0 0]\n",
       "            [0 1 0 0]\n",
       "            [0 0 1 0]\n",
       "            [0 0 0 1]]\n",
       "     nfev: 5\n",
       "     njev: 1"
      ]
     },
     "execution_count": 30,
     "metadata": {},
     "output_type": "execute_result"
    }
   ],
   "source": [
    "result"
   ]
  },
  {
   "cell_type": "code",
   "execution_count": 35,
   "id": "11829941-3f1b-4670-9014-12a41d7df6e8",
   "metadata": {},
   "outputs": [
    {
     "name": "stdout",
     "output_type": "stream",
     "text": [
      "Optimal W: [1. 1. 1. 1.]\n",
      "Minimum objective value: 0.0\n"
     ]
    },
    {
     "name": "stderr",
     "output_type": "stream",
     "text": [
      "/tmp/ipykernel_1320/3417717691.py:33: RuntimeWarning: Method BFGS cannot handle constraints.\n",
      "  result = minimize(objective, x0=x0, method=\"BFGS\", constraints=constraints)\n"
     ]
    }
   ],
   "source": [
    "import numpy as np\n",
    "from scipy.optimize import minimize\n",
    "\n",
    "# Define known values\n",
    "D = np.array([1, 1, 1, 1])  # 4 elements\n",
    "\n",
    "# Adjusted A to match the shape (4x4) so that A@W is valid\n",
    "A = np.array([[1000, 258412, 1, 0],\n",
    "              [0, 4, 1, 2],\n",
    "              [25694, 35471, 5, 6],\n",
    "              [10256, 878787, 2, 3]])\n",
    "\n",
    "B = np.array([10000000000000000000000, 450002200001, 12345, 67890])  # Should have 4 elements\n",
    "\n",
    "# Objective function (least squares)\n",
    "def f(w, d):\n",
    "    return ((w/d - 1) ** 2)\n",
    "\n",
    "def objective(W):\n",
    "    return (1/2) * sum(d_k * f(w_k, d_k) for w_k, d_k in zip(W, D))\n",
    "\n",
    "# Constraint function ensuring A@W = B\n",
    "def constraint(W):\n",
    "    return A @ W - B  # Must be zero for equality constraint\n",
    "\n",
    "# Define constraint in scipy format\n",
    "constraints = {\"type\": \"eq\", \"fun\": constraint}\n",
    "\n",
    "# Initial guess (same size as D)\n",
    "x0 = D.copy()\n",
    "\n",
    "# Solve optimization with an appropriate solver (SLSQP supports constraints)\n",
    "result = minimize(objective, x0=x0, method=\"BFGS\", constraints=constraints)\n",
    "\n",
    "# Output results\n",
    "print(\"Optimal W:\", result.x)\n",
    "print(\"Minimum objective value:\", result.fun)\n"
   ]
  },
  {
   "cell_type": "code",
   "execution_count": 36,
   "id": "3a74f2c7-f459-4995-871d-21afd4a64527",
   "metadata": {},
   "outputs": [
    {
     "data": {
      "text/plain": [
       "  message: Optimization terminated successfully.\n",
       "  success: True\n",
       "   status: 0\n",
       "      fun: 0.0\n",
       "        x: [ 1.000e+00  1.000e+00  1.000e+00  1.000e+00]\n",
       "      nit: 0\n",
       "      jac: [ 7.451e-09  7.451e-09  7.451e-09  7.451e-09]\n",
       " hess_inv: [[1 0 0 0]\n",
       "            [0 1 0 0]\n",
       "            [0 0 1 0]\n",
       "            [0 0 0 1]]\n",
       "     nfev: 5\n",
       "     njev: 1"
      ]
     },
     "execution_count": 36,
     "metadata": {},
     "output_type": "execute_result"
    }
   ],
   "source": [
    "result"
   ]
  }
 ],
 "metadata": {
  "kernelspec": {
   "display_name": "Python 3 (ipykernel)",
   "language": "python",
   "name": "python3"
  },
  "language_info": {
   "codemirror_mode": {
    "name": "ipython",
    "version": 3
   },
   "file_extension": ".py",
   "mimetype": "text/x-python",
   "name": "python",
   "nbconvert_exporter": "python",
   "pygments_lexer": "ipython3",
   "version": "3.12.7"
  }
 },
 "nbformat": 4,
 "nbformat_minor": 5
}
