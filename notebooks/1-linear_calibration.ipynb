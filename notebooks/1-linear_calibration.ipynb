{
 "cells": [
  {
   "cell_type": "code",
   "execution_count": 67,
   "id": "8801aaf0-43e0-4dc5-bbbe-8522528529cd",
   "metadata": {
    "scrolled": true
   },
   "outputs": [],
   "source": [
    "import numpy as np\n",
    "from scipy.optimize import minimize\n",
    "\n",
    "W_i = np.array([1/100, 1/100, 1/100, 1/100])\n",
    "D = np.array([1/w_i for w_i in W_i])\n",
    "x0 = D\n",
    "A = np.array([[1000, 2584],\n",
    "            [0, 4],\n",
    "            [25, 354],\n",
    "            [102, 878]])\n",
    "B = np.array([100000, 450002])\n",
    "\n",
    "def linear_method(w, d):\n",
    "    return ((w/d-1)**2)\n",
    "\n",
    "def objective(W):\n",
    "    return (1/2)*sum(\n",
    "        d_k*linear_method(w_k, d_k) for w_k, d_k in zip(W, D)\n",
    "    )\n",
    "\n",
    "def constraint(W):\n",
    "    return A.T@W-B\n",
    "\n",
    "constraints = {\"type\" : \"eq\", \"fun\" : constraint}\n",
    "\n",
    "result = minimize(objective, \n",
    "                  x0=x0, \n",
    "                  method=\"trust-constr\", \n",
    "                  constraints=constraints)"
   ]
  },
  {
   "cell_type": "code",
   "execution_count": 68,
   "id": "a0a88b16-ba85-434f-aa08-dfc9a3efbd82",
   "metadata": {},
   "outputs": [
    {
     "data": {
      "text/plain": [
       "True"
      ]
     },
     "execution_count": 68,
     "metadata": {},
     "output_type": "execute_result"
    }
   ],
   "source": [
    "result.success"
   ]
  }
 ],
 "metadata": {
  "kernelspec": {
   "display_name": "Python 3 (ipykernel)",
   "language": "python",
   "name": "python3"
  },
  "language_info": {
   "codemirror_mode": {
    "name": "ipython",
    "version": 3
   },
   "file_extension": ".py",
   "mimetype": "text/x-python",
   "name": "python",
   "nbconvert_exporter": "python",
   "pygments_lexer": "ipython3",
   "version": "3.12.7"
  }
 },
 "nbformat": 4,
 "nbformat_minor": 5
}
