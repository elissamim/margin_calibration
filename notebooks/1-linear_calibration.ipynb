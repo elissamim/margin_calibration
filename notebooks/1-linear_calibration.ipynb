{
 "cells": [
  {
   "cell_type": "code",
   "execution_count": 4,
   "id": "8801aaf0-43e0-4dc5-bbbe-8522528529cd",
   "metadata": {
    "scrolled": true
   },
   "outputs": [],
   "source": [
    "import numpy as np\n",
    "from scipy.optimize import minimize\n",
    "\n",
    "W_i = np.array([1/100, 1/100, 1/100, 1/100])\n",
    "D = np.array([1/w_i for w_i in W_i])\n",
    "x0 = D\n",
    "A = np.array([[1000, 2584],\n",
    "            [0, 4],\n",
    "            [25, 354],\n",
    "            [102, 878]])\n",
    "B = np.array([100000, 450002])\n",
    "\n",
    "def linear_method(w, d):\n",
    "    return ((w/d-1)**2)\n",
    "\n",
    "def ranking_ratio_method(w, d):\n",
    "    return (w/d)*np.log(w/d)-(w/d)+1\n",
    "\n",
    "# def objective(W):\n",
    "#     return (1/2)*sum(\n",
    "#         d_k*linear_method(w_k, d_k) for w_k, d_k in zip(W, D)\n",
    "#     )\n",
    "\n",
    "def objective(W):\n",
    "    return sum(\n",
    "        d_k*ranking_ratio_method(w_k, d_k) for w_k, d_k in zip(W, D)\n",
    "    )\n",
    "\n",
    "def constraint(W):\n",
    "    return A.T@W-B\n",
    "\n",
    "constraints = {\"type\" : \"eq\", \"fun\" : constraint}\n",
    "\n",
    "result = minimize(objective, \n",
    "                  x0=x0, \n",
    "                  method=\"trust-constr\", \n",
    "                  constraints=constraints)"
   ]
  },
  {
   "cell_type": "code",
   "execution_count": 20,
   "id": "91952808-9cb4-44c2-af72-b80086a10b08",
   "metadata": {},
   "outputs": [],
   "source": [
    "class MarginCalibration:\n",
    "\n",
    "    def __init__(self,\n",
    "                sampling_probabilities,\n",
    "                calibration_matrix,\n",
    "                calibration_target,\n",
    "                calibration_method):\n",
    "        self.sampling_probabilities = sampling_probabilities\n",
    "        self.calibration_matrix = calibration_matrix\n",
    "        self.calibration_target = calibration_target\n",
    "        self.calibration_method = calibration_method\n",
    "\n",
    "    def initialize_sampling_weights(self):\n",
    "        return np.array([1/prob_i for prob_i in self.sampling_probabilities])\n",
    "\n",
    "    def _linear_method(self, w, d):\n",
    "        return ((w/d-1)**2)\n",
    "\n",
    "    def _ranking_ratio_method(self, w, d):\n",
    "        return (w/d)*np.log(w/d)-(w/d)+1\n",
    "\n",
    "    def _logit_method(self, w, d, lower_bound, upper_bound):\n",
    "        pass\n",
    "        \n",
    "    def initialize_method(self):\n",
    "        if self.calibration_method == \"linear\":\n",
    "            return self._linear_method\n",
    "        elif self.calibration_method == \"ranking_ratio\":\n",
    "            return self._ranking_ratio_method\n",
    "        elif self.calibration_method == \"logit\":\n",
    "            return self._logit_method\n",
    "        elif self.calibration_method == \"truncated_linear\":\n",
    "            return self._truncated_linear\n",
    "        else:\n",
    "            raise ValueError(f\"Invalid value : {self.calibration_method}. Must be one of : 'linear', 'ranking_ratio'\")\n",
    "\n",
    "    def objective(self, calibration_weights):\n",
    "        \n",
    "        D = self.initialize_sampling_weights()\n",
    "        \n",
    "        return sum(\n",
    "            d_k*self.initialize_method()(w_k, d_k) for w_k, d_k in zip(calibration_weights, D)\n",
    "        )\n",
    "\n",
    "    def constraint(self, calibration_weights):\n",
    "        return self.calibration_matrix.T@calibration_weights-self.calibration_target\n",
    "\n",
    "    def calibration(self):\n",
    "        \n",
    "        constraints = {\"type\":\"eq\", \"fun\":self.constraint}\n",
    "        \n",
    "        x0 = self.initialize_sampling_weights()\n",
    "        \n",
    "        return minimize(\n",
    "            self.objective,\n",
    "            x0=x0,\n",
    "            method = \"trust-constr\",\n",
    "            constraints = constraints\n",
    "        )    "
   ]
  },
  {
   "cell_type": "code",
   "execution_count": 21,
   "id": "7dda5631-64f7-4748-9d6c-de0cc241f72a",
   "metadata": {
    "scrolled": true
   },
   "outputs": [
    {
     "name": "stderr",
     "output_type": "stream",
     "text": [
      "/opt/conda/lib/python3.12/site-packages/scipy/optimize/_differentiable_functions.py:552: UserWarning: delta_grad == 0.0. Check if the approximated function is linear. If the function is linear better results can be obtained by defining the Hessian as zero instead of using quasi-Newton approximations.\n",
      "  self.H.update(delta_x, delta_g)\n"
     ]
    },
    {
     "data": {
      "text/plain": [
       "          message: `xtol` termination condition is satisfied.\n",
       "          success: True\n",
       "           status: 2\n",
       "              fun: 228.17016018123127\n",
       "                x: [ 7.203e+01  1.009e+02  1.638e+02  2.340e+02]\n",
       "              nit: 20\n",
       "             nfev: 165\n",
       "             njev: 33\n",
       "             nhev: 0\n",
       "         cg_niter: 21\n",
       "     cg_stop_cond: 4\n",
       "             grad: [-5.593e-01  1.782e-02  1.276e+00  2.681e+00]\n",
       "  lagrangian_grad: [ 1.110e-09  9.172e-08  4.554e-08 -2.205e-08]\n",
       "           constr: [array([ 0.000e+00,  0.000e+00])]\n",
       "              jac: [array([[ 1.000e+03,  0.000e+00,  2.500e+01,  1.020e+02],\n",
       "                          [ 2.584e+03,  4.000e+00,  3.540e+02,  8.780e+02]])]\n",
       "      constr_nfev: [165]\n",
       "      constr_njev: [0]\n",
       "      constr_nhev: [0]\n",
       "                v: [array([ 1.207e-02, -4.456e-03])]\n",
       "           method: equality_constrained_sqp\n",
       "       optimality: 9.171765247284469e-08\n",
       " constr_violation: 0.0\n",
       "   execution_time: 0.03226828575134277\n",
       "        tr_radius: 9.063784488986924e-09\n",
       "   constr_penalty: 1.0\n",
       "            niter: 20"
      ]
     },
     "execution_count": 21,
     "metadata": {},
     "output_type": "execute_result"
    }
   ],
   "source": [
    "W_i = np.array([1/100, 1/100, 1/100, 1/100])\n",
    "D = np.array([1/w_i for w_i in W_i])\n",
    "x0 = D\n",
    "A = np.array([[1000, 2584],\n",
    "            [0, 4],\n",
    "            [25, 354],\n",
    "            [102, 878]])\n",
    "B = np.array([100000, 450002])\n",
    "\n",
    "MarginCalibration(W_i, A, B, \"linear\").calibration()"
   ]
  }
 ],
 "metadata": {
  "kernelspec": {
   "display_name": "Python 3 (ipykernel)",
   "language": "python",
   "name": "python3"
  },
  "language_info": {
   "codemirror_mode": {
    "name": "ipython",
    "version": 3
   },
   "file_extension": ".py",
   "mimetype": "text/x-python",
   "name": "python",
   "nbconvert_exporter": "python",
   "pygments_lexer": "ipython3",
   "version": "3.12.7"
  }
 },
 "nbformat": 4,
 "nbformat_minor": 5
}
