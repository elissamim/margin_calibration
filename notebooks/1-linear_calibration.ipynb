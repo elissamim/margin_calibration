{
 "cells": [
  {
   "cell_type": "code",
   "execution_count": 56,
   "id": "8801aaf0-43e0-4dc5-bbbe-8522528529cd",
   "metadata": {
    "scrolled": true
   },
   "outputs": [],
   "source": [
    "import numpy as np\n",
    "from scipy.optimize import minimize\n",
    "\n",
    "W_i = np.array([1/100, 1/100, 1/100, 1/100])\n",
    "D = np.array([1/w_i for w_i in W_i])\n",
    "x0 = D\n",
    "A = np.array([[1000, 2584],\n",
    "            [0, 4],\n",
    "            [25, 354],\n",
    "            [102, 878]])\n",
    "B = np.array([10000000, 450002])\n",
    "\n",
    "def f(r):\n",
    "    return ((r-1)**2)\n",
    "\n",
    "def objective(W):\n",
    "    return (1/2)*sum(\n",
    "        d_k*f(w_k, d_k) for w_k, d_k in zip(W, D)\n",
    "    )\n",
    "\n",
    "def constraint(W):\n",
    "    return A.T@W-B\n",
    "\n",
    "constraints = {\"type\" : \"eq\", \"fun\" : constraint}\n",
    "\n",
    "result = minimize(objective, \n",
    "                  x0=x0, \n",
    "                  method=\"trust-constr\", \n",
    "                  constraints=constraints)"
   ]
  },
  {
   "cell_type": "code",
   "execution_count": 57,
   "id": "ca4632de-9451-43c4-881a-d3bd82bde1c2",
   "metadata": {},
   "outputs": [
    {
     "data": {
      "text/plain": [
       "          message: `xtol` termination condition is satisfied.\n",
       "          success: True\n",
       "           status: 2\n",
       "              fun: 7982207.6027833745\n",
       "                x: [ 1.384e+04 -1.293e+02 -1.614e+04 -3.372e+04]\n",
       "              nit: 29\n",
       "             nfev: 225\n",
       "             njev: 45\n",
       "             nhev: 0\n",
       "         cg_niter: 30\n",
       "     cg_stop_cond: 4\n",
       "             grad: [ 1.374e+02 -2.293e+00 -1.624e+02 -3.382e+02]\n",
       "  lagrangian_grad: [ 3.281e-07  3.943e-04  2.875e-06 -3.922e-06]\n",
       "           constr: [array([-1.863e-09,  0.000e+00])]\n",
       "              jac: [array([[ 1.000e+03, -0.000e+00,  2.500e+01,  1.020e+02],\n",
       "                          [ 2.584e+03,  4.001e+00,  3.540e+02,  8.780e+02]])]\n",
       "      constr_nfev: [225]\n",
       "      constr_njev: [0]\n",
       "      constr_nhev: [0]\n",
       "                v: [array([-1.619e+00,  5.732e-01])]\n",
       "           method: equality_constrained_sqp\n",
       "       optimality: 0.0003942959068741203\n",
       " constr_violation: 1.862645149230957e-09\n",
       "   execution_time: 0.07196497917175293\n",
       "        tr_radius: 1.7270948498824328e-09\n",
       "   constr_penalty: 2.121344936095809\n",
       "            niter: 29"
      ]
     },
     "execution_count": 57,
     "metadata": {},
     "output_type": "execute_result"
    }
   ],
   "source": [
    "result"
   ]
  }
 ],
 "metadata": {
  "kernelspec": {
   "display_name": "Python 3 (ipykernel)",
   "language": "python",
   "name": "python3"
  },
  "language_info": {
   "codemirror_mode": {
    "name": "ipython",
    "version": 3
   },
   "file_extension": ".py",
   "mimetype": "text/x-python",
   "name": "python",
   "nbconvert_exporter": "python",
   "pygments_lexer": "ipython3",
   "version": "3.12.7"
  }
 },
 "nbformat": 4,
 "nbformat_minor": 5
}
